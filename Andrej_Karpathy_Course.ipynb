{
  "nbformat": 4,
  "nbformat_minor": 0,
  "metadata": {
    "colab": {
      "provenance": []
    },
    "kernelspec": {
      "name": "python3",
      "display_name": "Python 3"
    },
    "language_info": {
      "name": "python"
    }
  },
  "cells": [
    {
      "cell_type": "code",
      "execution_count": 2,
      "metadata": {
        "id": "cp6SVb0YwX11"
      },
      "outputs": [],
      "source": [
        "import math\n",
        "import numpy as np\n",
        "import matplotlib.pyplot as plt\n"
      ]
    },
    {
      "cell_type": "code",
      "source": [
        "def f(x):\n",
        "  return 3*x**2 - 4*x + 5"
      ],
      "metadata": {
        "id": "yU0qbzmz_Nyg"
      },
      "execution_count": 3,
      "outputs": []
    },
    {
      "cell_type": "code",
      "source": [
        "f(3)"
      ],
      "metadata": {
        "colab": {
          "base_uri": "https://localhost:8080/"
        },
        "id": "6rg63U-u_SC7",
        "outputId": "c895c40c-ea3d-4d87-8a59-059008698983"
      },
      "execution_count": 4,
      "outputs": [
        {
          "output_type": "execute_result",
          "data": {
            "text/plain": [
              "20"
            ]
          },
          "metadata": {},
          "execution_count": 4
        }
      ]
    },
    {
      "cell_type": "code",
      "source": [
        "dx = np.arange(-5,5,0.25)\n",
        "print(dx)"
      ],
      "metadata": {
        "colab": {
          "base_uri": "https://localhost:8080/"
        },
        "id": "ap3wl980_Uwo",
        "outputId": "3a2dfe91-1ec8-4c78-b8d6-4eb31f9320be"
      },
      "execution_count": 5,
      "outputs": [
        {
          "output_type": "stream",
          "name": "stdout",
          "text": [
            "[-5.   -4.75 -4.5  -4.25 -4.   -3.75 -3.5  -3.25 -3.   -2.75 -2.5  -2.25\n",
            " -2.   -1.75 -1.5  -1.25 -1.   -0.75 -0.5  -0.25  0.    0.25  0.5   0.75\n",
            "  1.    1.25  1.5   1.75  2.    2.25  2.5   2.75  3.    3.25  3.5   3.75\n",
            "  4.    4.25  4.5   4.75]\n"
          ]
        }
      ]
    },
    {
      "cell_type": "code",
      "source": [
        "dy = f(dx)\n",
        "print(dy)\n",
        "plt.plot(dx,dy)\n"
      ],
      "metadata": {
        "colab": {
          "base_uri": "https://localhost:8080/",
          "height": 534
        },
        "id": "9jJ0GR8x_d-X",
        "outputId": "36b6be02-9c61-48b3-fe38-c7cc15dc2a9d"
      },
      "execution_count": 6,
      "outputs": [
        {
          "output_type": "stream",
          "name": "stdout",
          "text": [
            "[100.      91.6875  83.75    76.1875  69.      62.1875  55.75    49.6875\n",
            "  44.      38.6875  33.75    29.1875  25.      21.1875  17.75    14.6875\n",
            "  12.       9.6875   7.75     6.1875   5.       4.1875   3.75     3.6875\n",
            "   4.       4.6875   5.75     7.1875   9.      11.1875  13.75    16.6875\n",
            "  20.      23.6875  27.75    32.1875  37.      42.1875  47.75    53.6875]\n"
          ]
        },
        {
          "output_type": "execute_result",
          "data": {
            "text/plain": [
              "[<matplotlib.lines.Line2D at 0x7ad3bd1ef650>]"
            ]
          },
          "metadata": {},
          "execution_count": 6
        },
        {
          "output_type": "display_data",
          "data": {
            "text/plain": [
              "<Figure size 640x480 with 1 Axes>"
            ],
            "image/png": "[encoded data removed]"
          },
          "metadata": {}
        }
      ]
    },
    {
      "cell_type": "code",
      "source": [
        "class Value:\n",
        "    def __init__(self, number, _nodes=(), _op='', label=''):\n",
        "        self.number = number\n",
        "        self.gradient = 0.0\n",
        "        self._backprop = lambda: None\n",
        "        self.label = label\n",
        "        self._op = _op\n",
        "        self._nodes = set(_nodes)\n",
        "\n",
        "    def __repr__(self):\n",
        "        return f\"Value(number={self.number})\"\n",
        "\n",
        "    def __rmul__(self,other):\n",
        "        return self * other\n",
        "\n",
        "\n",
        "    def __add__(self, other):\n",
        "        other = other if isinstance(other,Value) else Value(other)\n",
        "        out = Value(self.number + other.number, (self, other), '+', label='+')\n",
        "\n",
        "        def _backprop():\n",
        "            self.gradient += out.gradient * 1.0\n",
        "            other.gradient += out.gradient * 1.0\n",
        "\n",
        "        out._backprop = _backprop\n",
        "        return out\n",
        "\n",
        "    def __radd__(self, other):  # <--- ¡Nuevo método!\n",
        "      return self + other  # Llama a __add__\n",
        "\n",
        "    def __mul__(self, other):\n",
        "        other = other if isinstance(other,Value) else Value(other)\n",
        "        out = Value(self.number * other.number, (self, other), '*', label='*')\n",
        "        def _backprop():\n",
        "            self.gradient += out.gradient * other.number\n",
        "            other.gradient += out.gradient * self.number\n",
        "        out._backprop = _backprop\n",
        "        return out\n",
        "\n",
        "    def tanh(self):\n",
        "        x = self.number\n",
        "        t = (math.exp(2 * x) - 1) / (math.exp(2 * x) + 1)\n",
        "        out = Value(t, (self,), 'tanh', label='tanh')\n",
        "        def _backprop():\n",
        "            self.gradient += (1 - t**2) * out.gradient\n",
        "        out._backprop = _backprop\n",
        "        return out\n",
        "\n",
        "\n",
        "    def exp(self):\n",
        "      x = self.number\n",
        "      out = Value(math.exp(x),(self,),'exp')\n",
        "\n",
        "      def _backprop():\n",
        "        self.gradient += out.gradient * out.number\n",
        "      out._backprop = _backprop\n",
        "      return out\n",
        "\n",
        "\n",
        "\n",
        "    def __pow__(self, other):\n",
        "        other = other if isinstance(other, Value) else Value(other)\n",
        "        out = Value(self.number ** other.number, (self, other), f'**{other.number}', label='**')\n",
        "        def _backprop():\n",
        "            self.gradient += out.gradient * other.number * (self.number ** (other.number - 1))\n",
        "        out._backprop = _backprop\n",
        "        return out\n",
        "\n",
        "    def __neg__(self):\n",
        "        return self * Value(-1, label='-1')\n",
        "\n",
        "    def __sub__(self, other):\n",
        "        return self + (-other)\n",
        "\n",
        "    def __truediv__(self, other):\n",
        "        return self * (other ** Value(-1, label='-1'))\n",
        "\n",
        "    def backward(self):\n",
        "        topo = []\n",
        "        visited = set()\n",
        "\n",
        "        def build_topo(v):\n",
        "            if v not in visited:\n",
        "                visited.add(v)\n",
        "                for child in v._nodes:\n",
        "                    build_topo(child)\n",
        "                topo.append(v)\n",
        "\n",
        "        build_topo(self)\n",
        "        self.gradient = 1.0\n",
        "        for node in reversed(topo):\n",
        "            node._backprop()"
      ],
      "metadata": {
        "id": "gOAH61Sy_0NJ"
      },
      "execution_count": 69,
      "outputs": []
    },
    {
      "cell_type": "code",
      "source": [
        "from graphviz import Digraph\n",
        "\n",
        "def trace(root):\n",
        "    nodes, edges = set(), set()\n",
        "    def build(v):\n",
        "        if v not in nodes:\n",
        "            nodes.add(v)\n",
        "            for child in v._nodes:\n",
        "                edges.add((child, v))\n",
        "                build(child)\n",
        "    build(root)\n",
        "    return nodes, edges\n",
        "\n",
        "def draw_dot(root):\n",
        "    dot = Digraph(format='svg', graph_attr={'rankdir': 'LR'})\n",
        "    nodes, edges = trace(root)\n",
        "    for n in nodes:\n",
        "        uid = str(id(n))\n",
        "        dot.node(name=uid, label=\"{{ %s | data %.4f | grad %.4f }}\" % (n.label, n.number, n.gradient), shape='record')\n",
        "        if n._op:\n",
        "            dot.node(name=uid + n._op, label=n._op)\n",
        "            dot.edge(uid + n._op, uid)\n",
        "    for n1, n2 in edges:\n",
        "        dot.edge(str(id(n1)), str(id(n2)) + n2._op)\n",
        "    return dot"
      ],
      "metadata": {
        "id": "4iLcRIngI08Z"
      },
      "execution_count": 8,
      "outputs": []
    },
    {
      "cell_type": "code",
      "source": [
        "a = Value(2.0, label='a')\n",
        "b = Value(4.0, label='b')\n",
        "\n",
        "a/b\n"
      ],
      "metadata": {
        "colab": {
          "base_uri": "https://localhost:8080/"
        },
        "id": "JbTzthSzmo3I",
        "outputId": "0418eb56-5eb7-4761-dc80-79fce3c64be4"
      },
      "execution_count": 9,
      "outputs": [
        {
          "output_type": "execute_result",
          "data": {
            "text/plain": [
              "Value(number=0.5, op=*, label=*)"
            ]
          },
          "metadata": {},
          "execution_count": 9
        }
      ]
    },
    {
      "cell_type": "code",
      "source": [
        "# Crear valores\n",
        "a = Value(2.0, label='a')\n",
        "b = Value(3.0, label='b')\n",
        "\n",
        "# Operaciones\n",
        "c = a + b\n",
        "c.label = 'c'\n",
        "d = c * a\n",
        "d.label = 'd'\n",
        "e = d.tanh()\n",
        "e.label = 'e'\n",
        "\n",
        "# Backpropagation\n",
        "e.gradient = 1.0\n",
        "e.backward()\n",
        "\n",
        "# Visualizar\n",
        "draw_dot(e)\n"
      ],
      "metadata": {
        "colab": {
          "base_uri": "https://localhost:8080/",
          "height": 263
        },
        "id": "w5wS5usSI7rd",
        "outputId": "3e5f306f-c41f-4328-bee1-cb940f7002bc"
      },
      "execution_count": 10,
      "outputs": [
        {
          "output_type": "execute_result",
          "data": {
            "image/svg+xml": "<?xml version=\"1.0\" encoding=\"UTF-8\" standalone=\"no\"?>\n<!DOCTYPE svg PUBLIC \"-//W3C//DTD SVG 1.1//EN\"\n \"http://www.w3.org/Graphics/SVG/1.1/DTD/svg11.dtd\">\n<!-- Generated by graphviz version 2.43.0 (0)\n -->\n<!-- Title: %3 Pages: 1 -->\n<svg width=\"719pt\" height=\"166pt\"\n viewBox=\"0.00 0.00 719.00 166.00\" xmlns=\"http://www.w3.org/2000/svg\" xmlns:xlink=\"http://www.w3.org/1999/xlink\">\n<g id=\"graph0\" class=\"graph\" transform=\"scale(1 1) rotate(0) translate(4 162)\">\n<title>%3</title>\n<polygon fill=\"white\" stroke=\"transparent\" points=\"-4,4 -4,-162 715,-162 715,4 -4,4\"/>\n<!-- 135049469872144 -->\n<g id=\"node1\" class=\"node\">\n<title>135049469872144</title>\n<polygon fill=\"none\" stroke=\"black\" points=\"629,-31.5 629,-100.5 711,-100.5 711,-31.5 629,-31.5\"/>\n<text text-anchor=\"middle\" x=\"670\" y=\"-85.3\" font-family=\"Times,serif\" font-size=\"14.00\">e</text>\n<polyline fill=\"none\" stroke=\"black\" points=\"629,-77.5 711,-77.5 \"/>\n<text text-anchor=\"middle\" x=\"670\" y=\"-62.3\" font-family=\"Times,serif\" font-size=\"14.00\">data 1.0000</text>\n<polyline fill=\"none\" stroke=\"black\" points=\"629,-54.5 711,-54.5 \"/>\n<text text-anchor=\"middle\" x=\"670\" y=\"-39.3\" font-family=\"Times,serif\" font-size=\"14.00\">grad 1.0000</text>\n</g>\n<!-- 135049469872144tanh -->\n<g id=\"node2\" class=\"node\">\n<title>135049469872144tanh</title>\n<ellipse fill=\"none\" stroke=\"black\" cx=\"566\" cy=\"-66\" rx=\"27\" ry=\"18\"/>\n<text text-anchor=\"middle\" x=\"566\" y=\"-62.3\" font-family=\"Times,serif\" font-size=\"14.00\">tanh</text>\n</g>\n<!-- 135049469872144tanh&#45;&gt;135049469872144 -->\n<g id=\"edge1\" class=\"edge\">\n<title>135049469872144tanh&#45;&gt;135049469872144</title>\n<path fill=\"none\" stroke=\"black\" d=\"M593,-66C600.81,-66 609.65,-66 618.48,-66\"/>\n<polygon fill=\"black\" stroke=\"black\" points=\"618.76,-69.5 628.76,-66 618.76,-62.5 618.76,-69.5\"/>\n</g>\n<!-- 135049469871632 -->\n<g id=\"node3\" class=\"node\">\n<title>135049469871632</title>\n<polygon fill=\"none\" stroke=\"black\" points=\"0,-88.5 0,-157.5 82,-157.5 82,-88.5 0,-88.5\"/>\n<text text-anchor=\"middle\" x=\"41\" y=\"-142.3\" font-family=\"Times,serif\" font-size=\"14.00\">b</text>\n<polyline fill=\"none\" stroke=\"black\" points=\"0,-134.5 82,-134.5 \"/>\n<text text-anchor=\"middle\" x=\"41\" y=\"-119.3\" font-family=\"Times,serif\" font-size=\"14.00\">data 3.0000</text>\n<polyline fill=\"none\" stroke=\"black\" points=\"0,-111.5 82,-111.5 \"/>\n<text text-anchor=\"middle\" x=\"41\" y=\"-96.3\" font-family=\"Times,serif\" font-size=\"14.00\">grad 0.0000</text>\n</g>\n<!-- 135049469871696+ -->\n<g id=\"node5\" class=\"node\">\n<title>135049469871696+</title>\n<ellipse fill=\"none\" stroke=\"black\" cx=\"145\" cy=\"-98\" rx=\"27\" ry=\"18\"/>\n<text text-anchor=\"middle\" x=\"145\" y=\"-94.3\" font-family=\"Times,serif\" font-size=\"14.00\">+</text>\n</g>\n<!-- 135049469871632&#45;&gt;135049469871696+ -->\n<g id=\"edge7\" class=\"edge\">\n<title>135049469871632&#45;&gt;135049469871696+</title>\n<path fill=\"none\" stroke=\"black\" d=\"M82.02,-113.19C91.09,-110.97 100.64,-108.63 109.46,-106.47\"/>\n<polygon fill=\"black\" stroke=\"black\" points=\"110.52,-109.81 119.4,-104.03 108.85,-103.01 110.52,-109.81\"/>\n</g>\n<!-- 135049469871696 -->\n<g id=\"node4\" class=\"node\">\n<title>135049469871696</title>\n<polygon fill=\"none\" stroke=\"black\" points=\"208,-63.5 208,-132.5 290,-132.5 290,-63.5 208,-63.5\"/>\n<text text-anchor=\"middle\" x=\"249\" y=\"-117.3\" font-family=\"Times,serif\" font-size=\"14.00\">c</text>\n<polyline fill=\"none\" stroke=\"black\" points=\"208,-109.5 290,-109.5 \"/>\n<text text-anchor=\"middle\" x=\"249\" y=\"-94.3\" font-family=\"Times,serif\" font-size=\"14.00\">data 5.0000</text>\n<polyline fill=\"none\" stroke=\"black\" points=\"208,-86.5 290,-86.5 \"/>\n<text text-anchor=\"middle\" x=\"249\" y=\"-71.3\" font-family=\"Times,serif\" font-size=\"14.00\">grad 0.0000</text>\n</g>\n<!-- 135049469871760* -->\n<g id=\"node8\" class=\"node\">\n<title>135049469871760*</title>\n<ellipse fill=\"none\" stroke=\"black\" cx=\"353\" cy=\"-66\" rx=\"27\" ry=\"18\"/>\n<text text-anchor=\"middle\" x=\"353\" y=\"-62.3\" font-family=\"Times,serif\" font-size=\"14.00\">*</text>\n</g>\n<!-- 135049469871696&#45;&gt;135049469871760* -->\n<g id=\"edge5\" class=\"edge\">\n<title>135049469871696&#45;&gt;135049469871760*</title>\n<path fill=\"none\" stroke=\"black\" d=\"M290.02,-85.44C299.43,-82.49 309.36,-79.38 318.45,-76.53\"/>\n<polygon fill=\"black\" stroke=\"black\" points=\"319.79,-79.77 328.28,-73.44 317.69,-73.09 319.79,-79.77\"/>\n</g>\n<!-- 135049469871696+&#45;&gt;135049469871696 -->\n<g id=\"edge2\" class=\"edge\">\n<title>135049469871696+&#45;&gt;135049469871696</title>\n<path fill=\"none\" stroke=\"black\" d=\"M172,-98C179.81,-98 188.65,-98 197.48,-98\"/>\n<polygon fill=\"black\" stroke=\"black\" points=\"197.76,-101.5 207.76,-98 197.76,-94.5 197.76,-101.5\"/>\n</g>\n<!-- 135049469871248 -->\n<g id=\"node6\" class=\"node\">\n<title>135049469871248</title>\n<polygon fill=\"none\" stroke=\"black\" points=\"0,-0.5 0,-69.5 82,-69.5 82,-0.5 0,-0.5\"/>\n<text text-anchor=\"middle\" x=\"41\" y=\"-54.3\" font-family=\"Times,serif\" font-size=\"14.00\">a</text>\n<polyline fill=\"none\" stroke=\"black\" points=\"0,-46.5 82,-46.5 \"/>\n<text text-anchor=\"middle\" x=\"41\" y=\"-31.3\" font-family=\"Times,serif\" font-size=\"14.00\">data 2.0000</text>\n<polyline fill=\"none\" stroke=\"black\" points=\"0,-23.5 82,-23.5 \"/>\n<text text-anchor=\"middle\" x=\"41\" y=\"-8.3\" font-family=\"Times,serif\" font-size=\"14.00\">grad 0.0000</text>\n</g>\n<!-- 135049469871248&#45;&gt;135049469871696+ -->\n<g id=\"edge8\" class=\"edge\">\n<title>135049469871248&#45;&gt;135049469871696+</title>\n<path fill=\"none\" stroke=\"black\" d=\"M82.02,-59.72C93.33,-66.7 105.4,-74.16 115.85,-80.61\"/>\n<polygon fill=\"black\" stroke=\"black\" points=\"114.21,-83.71 124.56,-85.99 117.89,-77.76 114.21,-83.71\"/>\n</g>\n<!-- 135049469871248&#45;&gt;135049469871760* -->\n<g id=\"edge6\" class=\"edge\">\n<title>135049469871248&#45;&gt;135049469871760*</title>\n<path fill=\"none\" stroke=\"black\" d=\"M82.09,-36.66C131.25,-39.01 217.03,-44.18 290,-54 298.82,-55.19 308.29,-56.83 317.1,-58.52\"/>\n<polygon fill=\"black\" stroke=\"black\" points=\"316.58,-61.98 327.07,-60.5 317.94,-55.12 316.58,-61.98\"/>\n</g>\n<!-- 135049469871760 -->\n<g id=\"node7\" class=\"node\">\n<title>135049469871760</title>\n<polygon fill=\"none\" stroke=\"black\" points=\"416,-31.5 416,-100.5 503,-100.5 503,-31.5 416,-31.5\"/>\n<text text-anchor=\"middle\" x=\"459.5\" y=\"-85.3\" font-family=\"Times,serif\" font-size=\"14.00\">d</text>\n<polyline fill=\"none\" stroke=\"black\" points=\"416,-77.5 503,-77.5 \"/>\n<text text-anchor=\"middle\" x=\"459.5\" y=\"-62.3\" font-family=\"Times,serif\" font-size=\"14.00\">data 10.0000</text>\n<polyline fill=\"none\" stroke=\"black\" points=\"416,-54.5 503,-54.5 \"/>\n<text text-anchor=\"middle\" x=\"459.5\" y=\"-39.3\" font-family=\"Times,serif\" font-size=\"14.00\">grad 0.0000</text>\n</g>\n<!-- 135049469871760&#45;&gt;135049469872144tanh -->\n<g id=\"edge4\" class=\"edge\">\n<title>135049469871760&#45;&gt;135049469872144tanh</title>\n<path fill=\"none\" stroke=\"black\" d=\"M503,-66C511.51,-66 520.37,-66 528.64,-66\"/>\n<polygon fill=\"black\" stroke=\"black\" points=\"528.73,-69.5 538.73,-66 528.73,-62.5 528.73,-69.5\"/>\n</g>\n<!-- 135049469871760*&#45;&gt;135049469871760 -->\n<g id=\"edge3\" class=\"edge\">\n<title>135049469871760*&#45;&gt;135049469871760</title>\n<path fill=\"none\" stroke=\"black\" d=\"M380.1,-66C387.83,-66 396.6,-66 405.4,-66\"/>\n<polygon fill=\"black\" stroke=\"black\" points=\"405.68,-69.5 415.68,-66 405.68,-62.5 405.68,-69.5\"/>\n</g>\n</g>\n</svg>\n",
            "text/plain": [
              "<graphviz.graphs.Digraph at 0x7ad3a7adc6d0>"
            ]
          },
          "metadata": {},
          "execution_count": 10
        }
      ]
    },
    {
      "cell_type": "code",
      "source": [
        "a = Value(2.0, label='a')\n",
        "b = Value(-3.0, label='b')\n",
        "c = Value(10.0, label='c')\n",
        "e = a*b; e.label = 'e'\n",
        "d = e + c; d.label = 'd'\n",
        "f = Value(-2.0, label='f')\n",
        "L = d * f; L.label = 'L'\n",
        "L.gradient = 1.0\n",
        "\n",
        "draw_dot(L)"
      ],
      "metadata": {
        "colab": {
          "base_uri": "https://localhost:8080/",
          "height": 321
        },
        "id": "nnb03CpAY5jL",
        "outputId": "a2c151ad-3dbb-490d-b74a-de9edf7c87af"
      },
      "execution_count": 11,
      "outputs": [
        {
          "output_type": "execute_result",
          "data": {
            "image/svg+xml": "<?xml version=\"1.0\" encoding=\"UTF-8\" standalone=\"no\"?>\n<!DOCTYPE svg PUBLIC \"-//W3C//DTD SVG 1.1//EN\"\n \"http://www.w3.org/Graphics/SVG/1.1/DTD/svg11.dtd\">\n<!-- Generated by graphviz version 2.43.0 (0)\n -->\n<!-- Title: %3 Pages: 1 -->\n<svg width=\"728pt\" height=\"210pt\"\n viewBox=\"0.00 0.00 728.00 210.00\" xmlns=\"http://www.w3.org/2000/svg\" xmlns:xlink=\"http://www.w3.org/1999/xlink\">\n<g id=\"graph0\" class=\"graph\" transform=\"scale(1 1) rotate(0) translate(4 206)\">\n<title>%3</title>\n<polygon fill=\"white\" stroke=\"transparent\" points=\"-4,4 -4,-206 724,-206 724,4 -4,4\"/>\n<!-- 135049473976336 -->\n<g id=\"node1\" class=\"node\">\n<title>135049473976336</title>\n<polygon fill=\"none\" stroke=\"black\" points=\"425.5,-44.5 425.5,-113.5 507.5,-113.5 507.5,-44.5 425.5,-44.5\"/>\n<text text-anchor=\"middle\" x=\"466.5\" y=\"-98.3\" font-family=\"Times,serif\" font-size=\"14.00\">d</text>\n<polyline fill=\"none\" stroke=\"black\" points=\"425.5,-90.5 507.5,-90.5 \"/>\n<text text-anchor=\"middle\" x=\"466.5\" y=\"-75.3\" font-family=\"Times,serif\" font-size=\"14.00\">data 4.0000</text>\n<polyline fill=\"none\" stroke=\"black\" points=\"425.5,-67.5 507.5,-67.5 \"/>\n<text text-anchor=\"middle\" x=\"466.5\" y=\"-52.3\" font-family=\"Times,serif\" font-size=\"14.00\">grad 0.0000</text>\n</g>\n<!-- 135049473977936* -->\n<g id=\"node6\" class=\"node\">\n<title>135049473977936*</title>\n<ellipse fill=\"none\" stroke=\"black\" cx=\"572\" cy=\"-123\" rx=\"27\" ry=\"18\"/>\n<text text-anchor=\"middle\" x=\"572\" y=\"-119.3\" font-family=\"Times,serif\" font-size=\"14.00\">*</text>\n</g>\n<!-- 135049473976336&#45;&gt;135049473977936* -->\n<g id=\"edge4\" class=\"edge\">\n<title>135049473976336&#45;&gt;135049473977936*</title>\n<path fill=\"none\" stroke=\"black\" d=\"M507.52,-96.01C518.12,-100.52 529.42,-105.32 539.5,-109.61\"/>\n<polygon fill=\"black\" stroke=\"black\" points=\"538.16,-112.84 548.73,-113.53 540.9,-106.4 538.16,-112.84\"/>\n</g>\n<!-- 135049473976336+ -->\n<g id=\"node2\" class=\"node\">\n<title>135049473976336+</title>\n<ellipse fill=\"none\" stroke=\"black\" cx=\"361\" cy=\"-79\" rx=\"27\" ry=\"18\"/>\n<text text-anchor=\"middle\" x=\"361\" y=\"-75.3\" font-family=\"Times,serif\" font-size=\"14.00\">+</text>\n</g>\n<!-- 135049473976336+&#45;&gt;135049473976336 -->\n<g id=\"edge1\" class=\"edge\">\n<title>135049473976336+&#45;&gt;135049473976336</title>\n<path fill=\"none\" stroke=\"black\" d=\"M388.12,-79C396.39,-79 405.82,-79 415.19,-79\"/>\n<polygon fill=\"black\" stroke=\"black\" points=\"415.28,-82.5 425.28,-79 415.28,-75.5 415.28,-82.5\"/>\n</g>\n<!-- 135049473969168 -->\n<g id=\"node3\" class=\"node\">\n<title>135049473969168</title>\n<polygon fill=\"none\" stroke=\"black\" points=\"212,-88.5 212,-157.5 297,-157.5 297,-88.5 212,-88.5\"/>\n<text text-anchor=\"middle\" x=\"254.5\" y=\"-142.3\" font-family=\"Times,serif\" font-size=\"14.00\">e</text>\n<polyline fill=\"none\" stroke=\"black\" points=\"212,-134.5 297,-134.5 \"/>\n<text text-anchor=\"middle\" x=\"254.5\" y=\"-119.3\" font-family=\"Times,serif\" font-size=\"14.00\">data &#45;6.0000</text>\n<polyline fill=\"none\" stroke=\"black\" points=\"212,-111.5 297,-111.5 \"/>\n<text text-anchor=\"middle\" x=\"254.5\" y=\"-96.3\" font-family=\"Times,serif\" font-size=\"14.00\">grad 0.0000</text>\n</g>\n<!-- 135049473969168&#45;&gt;135049473976336+ -->\n<g id=\"edge9\" class=\"edge\">\n<title>135049473969168&#45;&gt;135049473976336+</title>\n<path fill=\"none\" stroke=\"black\" d=\"M297.1,-105.48C307.52,-101.1 318.52,-96.46 328.37,-92.32\"/>\n<polygon fill=\"black\" stroke=\"black\" points=\"329.9,-95.47 337.76,-88.37 327.18,-89.02 329.9,-95.47\"/>\n</g>\n<!-- 135049473969168* -->\n<g id=\"node4\" class=\"node\">\n<title>135049473969168*</title>\n<ellipse fill=\"none\" stroke=\"black\" cx=\"148\" cy=\"-123\" rx=\"27\" ry=\"18\"/>\n<text text-anchor=\"middle\" x=\"148\" y=\"-119.3\" font-family=\"Times,serif\" font-size=\"14.00\">*</text>\n</g>\n<!-- 135049473969168*&#45;&gt;135049473969168 -->\n<g id=\"edge2\" class=\"edge\">\n<title>135049473969168*&#45;&gt;135049473969168</title>\n<path fill=\"none\" stroke=\"black\" d=\"M175.1,-123C183.27,-123 192.59,-123 201.88,-123\"/>\n<polygon fill=\"black\" stroke=\"black\" points=\"201.89,-126.5 211.89,-123 201.89,-119.5 201.89,-126.5\"/>\n</g>\n<!-- 135049473977936 -->\n<g id=\"node5\" class=\"node\">\n<title>135049473977936</title>\n<polygon fill=\"none\" stroke=\"black\" points=\"635,-88.5 635,-157.5 720,-157.5 720,-88.5 635,-88.5\"/>\n<text text-anchor=\"middle\" x=\"677.5\" y=\"-142.3\" font-family=\"Times,serif\" font-size=\"14.00\">L</text>\n<polyline fill=\"none\" stroke=\"black\" points=\"635,-134.5 720,-134.5 \"/>\n<text text-anchor=\"middle\" x=\"677.5\" y=\"-119.3\" font-family=\"Times,serif\" font-size=\"14.00\">data &#45;8.0000</text>\n<polyline fill=\"none\" stroke=\"black\" points=\"635,-111.5 720,-111.5 \"/>\n<text text-anchor=\"middle\" x=\"677.5\" y=\"-96.3\" font-family=\"Times,serif\" font-size=\"14.00\">grad 1.0000</text>\n</g>\n<!-- 135049473977936*&#45;&gt;135049473977936 -->\n<g id=\"edge3\" class=\"edge\">\n<title>135049473977936*&#45;&gt;135049473977936</title>\n<path fill=\"none\" stroke=\"black\" d=\"M599.12,-123C606.87,-123 615.64,-123 624.42,-123\"/>\n<polygon fill=\"black\" stroke=\"black\" points=\"624.68,-126.5 634.68,-123 624.68,-119.5 624.68,-126.5\"/>\n</g>\n<!-- 135049473974864 -->\n<g id=\"node7\" class=\"node\">\n<title>135049473974864</title>\n<polygon fill=\"none\" stroke=\"black\" points=\"1.5,-132.5 1.5,-201.5 83.5,-201.5 83.5,-132.5 1.5,-132.5\"/>\n<text text-anchor=\"middle\" x=\"42.5\" y=\"-186.3\" font-family=\"Times,serif\" font-size=\"14.00\">a</text>\n<polyline fill=\"none\" stroke=\"black\" points=\"1.5,-178.5 83.5,-178.5 \"/>\n<text text-anchor=\"middle\" x=\"42.5\" y=\"-163.3\" font-family=\"Times,serif\" font-size=\"14.00\">data 2.0000</text>\n<polyline fill=\"none\" stroke=\"black\" points=\"1.5,-155.5 83.5,-155.5 \"/>\n<text text-anchor=\"middle\" x=\"42.5\" y=\"-140.3\" font-family=\"Times,serif\" font-size=\"14.00\">grad 0.0000</text>\n</g>\n<!-- 135049473974864&#45;&gt;135049473969168* -->\n<g id=\"edge8\" class=\"edge\">\n<title>135049473974864&#45;&gt;135049473969168*</title>\n<path fill=\"none\" stroke=\"black\" d=\"M83.52,-149.99C94.12,-145.48 105.42,-140.68 115.5,-136.39\"/>\n<polygon fill=\"black\" stroke=\"black\" points=\"116.9,-139.6 124.73,-132.47 114.16,-133.16 116.9,-139.6\"/>\n</g>\n<!-- 135049473975440 -->\n<g id=\"node8\" class=\"node\">\n<title>135049473975440</title>\n<polygon fill=\"none\" stroke=\"black\" points=\"424,-132.5 424,-201.5 509,-201.5 509,-132.5 424,-132.5\"/>\n<text text-anchor=\"middle\" x=\"466.5\" y=\"-186.3\" font-family=\"Times,serif\" font-size=\"14.00\">f</text>\n<polyline fill=\"none\" stroke=\"black\" points=\"424,-178.5 509,-178.5 \"/>\n<text text-anchor=\"middle\" x=\"466.5\" y=\"-163.3\" font-family=\"Times,serif\" font-size=\"14.00\">data &#45;2.0000</text>\n<polyline fill=\"none\" stroke=\"black\" points=\"424,-155.5 509,-155.5 \"/>\n<text text-anchor=\"middle\" x=\"466.5\" y=\"-140.3\" font-family=\"Times,serif\" font-size=\"14.00\">grad 0.0000</text>\n</g>\n<!-- 135049473975440&#45;&gt;135049473977936* -->\n<g id=\"edge6\" class=\"edge\">\n<title>135049473975440&#45;&gt;135049473977936*</title>\n<path fill=\"none\" stroke=\"black\" d=\"M509,-149.36C519.21,-145.02 529.97,-140.44 539.61,-136.34\"/>\n<polygon fill=\"black\" stroke=\"black\" points=\"540.98,-139.56 548.81,-132.43 538.24,-133.12 540.98,-139.56\"/>\n</g>\n<!-- 135049473976976 -->\n<g id=\"node9\" class=\"node\">\n<title>135049473976976</title>\n<polygon fill=\"none\" stroke=\"black\" points=\"211,-0.5 211,-69.5 298,-69.5 298,-0.5 211,-0.5\"/>\n<text text-anchor=\"middle\" x=\"254.5\" y=\"-54.3\" font-family=\"Times,serif\" font-size=\"14.00\">c</text>\n<polyline fill=\"none\" stroke=\"black\" points=\"211,-46.5 298,-46.5 \"/>\n<text text-anchor=\"middle\" x=\"254.5\" y=\"-31.3\" font-family=\"Times,serif\" font-size=\"14.00\">data 10.0000</text>\n<polyline fill=\"none\" stroke=\"black\" points=\"211,-23.5 298,-23.5 \"/>\n<text text-anchor=\"middle\" x=\"254.5\" y=\"-8.3\" font-family=\"Times,serif\" font-size=\"14.00\">grad 0.0000</text>\n</g>\n<!-- 135049473976976&#45;&gt;135049473976336+ -->\n<g id=\"edge5\" class=\"edge\">\n<title>135049473976976&#45;&gt;135049473976336+</title>\n<path fill=\"none\" stroke=\"black\" d=\"M298,-52.9C308.15,-57.17 318.81,-61.66 328.37,-65.68\"/>\n<polygon fill=\"black\" stroke=\"black\" points=\"327.3,-69.03 337.87,-69.68 330.01,-62.58 327.3,-69.03\"/>\n</g>\n<!-- 135049473975120 -->\n<g id=\"node10\" class=\"node\">\n<title>135049473975120</title>\n<polygon fill=\"none\" stroke=\"black\" points=\"0,-44.5 0,-113.5 85,-113.5 85,-44.5 0,-44.5\"/>\n<text text-anchor=\"middle\" x=\"42.5\" y=\"-98.3\" font-family=\"Times,serif\" font-size=\"14.00\">b</text>\n<polyline fill=\"none\" stroke=\"black\" points=\"0,-90.5 85,-90.5 \"/>\n<text text-anchor=\"middle\" x=\"42.5\" y=\"-75.3\" font-family=\"Times,serif\" font-size=\"14.00\">data &#45;3.0000</text>\n<polyline fill=\"none\" stroke=\"black\" points=\"0,-67.5 85,-67.5 \"/>\n<text text-anchor=\"middle\" x=\"42.5\" y=\"-52.3\" font-family=\"Times,serif\" font-size=\"14.00\">grad 0.0000</text>\n</g>\n<!-- 135049473975120&#45;&gt;135049473969168* -->\n<g id=\"edge7\" class=\"edge\">\n<title>135049473975120&#45;&gt;135049473969168*</title>\n<path fill=\"none\" stroke=\"black\" d=\"M85,-96.64C95.21,-100.98 105.97,-105.56 115.61,-109.66\"/>\n<polygon fill=\"black\" stroke=\"black\" points=\"114.24,-112.88 124.81,-113.57 116.98,-106.44 114.24,-112.88\"/>\n</g>\n</g>\n</svg>\n",
            "text/plain": [
              "<graphviz.graphs.Digraph at 0x7ad3a7ec73d0>"
            ]
          },
          "metadata": {},
          "execution_count": 11
        }
      ]
    },
    {
      "cell_type": "code",
      "source": [
        "def lol():\n",
        "\n",
        "  h = 0.001\n",
        "\n",
        "  a = Value(2.0, label='a')\n",
        "  b = Value(-3.0, label='b')\n",
        "  c = Value(10.0, label='c')\n",
        "  e = a*b; e.label = 'e'\n",
        "  d = e + c; d.label = 'd'\n",
        "  f = Value(-2.0, label='f')\n",
        "  L = d * f; L.label = 'L'\n",
        "  L1 = L.number\n",
        "\n",
        "  a = Value(2.0, label='a')\n",
        "  b = Value(-3.0, label='b')\n",
        "  b.number += h\n",
        "  c = Value(10.0, label='c')\n",
        "  e = a*b; e.label = 'e'\n",
        "  d = e + c; d.label = 'd'\n",
        "  f = Value(-2.0, label='f')\n",
        "  L = d * f; L.label = 'L'\n",
        "  L2 = L.number\n",
        "\n",
        "  print((L2 - L1)/h)\n",
        "\n",
        "lol()\n"
      ],
      "metadata": {
        "colab": {
          "base_uri": "https://localhost:8080/"
        },
        "id": "z0-Qccc8W21W",
        "outputId": "6e2c79f3-6a4c-4d53-ae9d-ada494b585da"
      },
      "execution_count": 12,
      "outputs": [
        {
          "output_type": "stream",
          "name": "stdout",
          "text": [
            "-3.9999999999995595\n"
          ]
        }
      ]
    },
    {
      "cell_type": "code",
      "source": [
        "# inputs x1,x2\n",
        "x1 = Value(2.0, label='x1')\n",
        "x2 = Value(0.0, label='x2')\n",
        "# weights w1,w2\n",
        "w1 = Value(-3.0, label='w1')\n",
        "w2 = Value(1.0, label='w2')\n",
        "# bias of the neuron\n",
        "b = Value(6.8813735870195432, label='b')\n",
        "# x1*w1 + x2*w2 + b\n",
        "x1w1 = x1*w1; x1w1.label = 'x1*w1'\n",
        "x2w2 = x2*w2; x2w2.label = 'x2*w2'\n",
        "x1w1x2w2 = x1w1 + x2w2; x1w1x2w2.label = 'x1*w1 + x2*w2'\n",
        "n = x1w1x2w2 + b; n.label = 'n'\n",
        "o = n.tanh(); o.label = 'o'\n",
        "o.backward()"
      ],
      "metadata": {
        "id": "JYMjazM2XAUR"
      },
      "execution_count": 13,
      "outputs": []
    },
    {
      "cell_type": "code",
      "source": [
        "draw_dot(o)"
      ],
      "metadata": {
        "colab": {
          "base_uri": "https://localhost:8080/",
          "height": 497
        },
        "id": "ZGUpPrkAbF6K",
        "outputId": "8cdf8209-78bf-4d11-cfc0-610bd68fdabf"
      },
      "execution_count": 14,
      "outputs": [
        {
          "output_type": "execute_result",
          "data": {
            "image/svg+xml": "<?xml version=\"1.0\" encoding=\"UTF-8\" standalone=\"no\"?>\n<!DOCTYPE svg PUBLIC \"-//W3C//DTD SVG 1.1//EN\"\n \"http://www.w3.org/Graphics/SVG/1.1/DTD/svg11.dtd\">\n<!-- Generated by graphviz version 2.43.0 (0)\n -->\n<!-- Title: %3 Pages: 1 -->\n<svg width=\"953pt\" height=\"342pt\"\n viewBox=\"0.00 0.00 953.00 342.00\" xmlns=\"http://www.w3.org/2000/svg\" xmlns:xlink=\"http://www.w3.org/1999/xlink\">\n<g id=\"graph0\" class=\"graph\" transform=\"scale(1 1) rotate(0) translate(4 338)\">\n<title>%3</title>\n<polygon fill=\"white\" stroke=\"transparent\" points=\"-4,4 -4,-338 949,-338 949,4 -4,4\"/>\n<!-- 135049463988368 -->\n<g id=\"node1\" class=\"node\">\n<title>135049463988368</title>\n<polygon fill=\"none\" stroke=\"black\" points=\"863,-176.5 863,-245.5 945,-245.5 945,-176.5 863,-176.5\"/>\n<text text-anchor=\"middle\" x=\"904\" y=\"-230.3\" font-family=\"Times,serif\" font-size=\"14.00\">o</text>\n<polyline fill=\"none\" stroke=\"black\" points=\"863,-222.5 945,-222.5 \"/>\n<text text-anchor=\"middle\" x=\"904\" y=\"-207.3\" font-family=\"Times,serif\" font-size=\"14.00\">data 0.7071</text>\n<polyline fill=\"none\" stroke=\"black\" points=\"863,-199.5 945,-199.5 \"/>\n<text text-anchor=\"middle\" x=\"904\" y=\"-184.3\" font-family=\"Times,serif\" font-size=\"14.00\">grad 1.0000</text>\n</g>\n<!-- 135049463988368tanh -->\n<g id=\"node2\" class=\"node\">\n<title>135049463988368tanh</title>\n<ellipse fill=\"none\" stroke=\"black\" cx=\"800\" cy=\"-211\" rx=\"27\" ry=\"18\"/>\n<text text-anchor=\"middle\" x=\"800\" y=\"-207.3\" font-family=\"Times,serif\" font-size=\"14.00\">tanh</text>\n</g>\n<!-- 135049463988368tanh&#45;&gt;135049463988368 -->\n<g id=\"edge1\" class=\"edge\">\n<title>135049463988368tanh&#45;&gt;135049463988368</title>\n<path fill=\"none\" stroke=\"black\" d=\"M827,-211C834.81,-211 843.65,-211 852.48,-211\"/>\n<polygon fill=\"black\" stroke=\"black\" points=\"852.76,-214.5 862.76,-211 852.76,-207.5 852.76,-214.5\"/>\n</g>\n<!-- 135049678018256 -->\n<g id=\"node3\" class=\"node\">\n<title>135049678018256</title>\n<polygon fill=\"none\" stroke=\"black\" points=\"435,-220.5 435,-289.5 517,-289.5 517,-220.5 435,-220.5\"/>\n<text text-anchor=\"middle\" x=\"476\" y=\"-274.3\" font-family=\"Times,serif\" font-size=\"14.00\">b</text>\n<polyline fill=\"none\" stroke=\"black\" points=\"435,-266.5 517,-266.5 \"/>\n<text text-anchor=\"middle\" x=\"476\" y=\"-251.3\" font-family=\"Times,serif\" font-size=\"14.00\">data 6.8814</text>\n<polyline fill=\"none\" stroke=\"black\" points=\"435,-243.5 517,-243.5 \"/>\n<text text-anchor=\"middle\" x=\"476\" y=\"-228.3\" font-family=\"Times,serif\" font-size=\"14.00\">grad 0.5000</text>\n</g>\n<!-- 135049464000400+ -->\n<g id=\"node13\" class=\"node\">\n<title>135049464000400+</title>\n<ellipse fill=\"none\" stroke=\"black\" cx=\"592\" cy=\"-211\" rx=\"27\" ry=\"18\"/>\n<text text-anchor=\"middle\" x=\"592\" y=\"-207.3\" font-family=\"Times,serif\" font-size=\"14.00\">+</text>\n</g>\n<!-- 135049678018256&#45;&gt;135049464000400+ -->\n<g id=\"edge8\" class=\"edge\">\n<title>135049678018256&#45;&gt;135049464000400+</title>\n<path fill=\"none\" stroke=\"black\" d=\"M517.19,-239.49C530.78,-234.24 545.77,-228.46 558.67,-223.48\"/>\n<polygon fill=\"black\" stroke=\"black\" points=\"560,-226.72 568.07,-219.85 557.48,-220.19 560,-226.72\"/>\n</g>\n<!-- 135049469897936 -->\n<g id=\"node4\" class=\"node\">\n<title>135049469897936</title>\n<polygon fill=\"none\" stroke=\"black\" points=\"213.5,-176.5 213.5,-245.5 295.5,-245.5 295.5,-176.5 213.5,-176.5\"/>\n<text text-anchor=\"middle\" x=\"254.5\" y=\"-230.3\" font-family=\"Times,serif\" font-size=\"14.00\">x2*w2</text>\n<polyline fill=\"none\" stroke=\"black\" points=\"213.5,-222.5 295.5,-222.5 \"/>\n<text text-anchor=\"middle\" x=\"254.5\" y=\"-207.3\" font-family=\"Times,serif\" font-size=\"14.00\">data 0.0000</text>\n<polyline fill=\"none\" stroke=\"black\" points=\"213.5,-199.5 295.5,-199.5 \"/>\n<text text-anchor=\"middle\" x=\"254.5\" y=\"-184.3\" font-family=\"Times,serif\" font-size=\"14.00\">grad 0.5000</text>\n</g>\n<!-- 135049463990224+ -->\n<g id=\"node15\" class=\"node\">\n<title>135049463990224+</title>\n<ellipse fill=\"none\" stroke=\"black\" cx=\"360\" cy=\"-167\" rx=\"27\" ry=\"18\"/>\n<text text-anchor=\"middle\" x=\"360\" y=\"-163.3\" font-family=\"Times,serif\" font-size=\"14.00\">+</text>\n</g>\n<!-- 135049469897936&#45;&gt;135049463990224+ -->\n<g id=\"edge6\" class=\"edge\">\n<title>135049469897936&#45;&gt;135049463990224+</title>\n<path fill=\"none\" stroke=\"black\" d=\"M295.52,-193.99C306.12,-189.48 317.42,-184.68 327.5,-180.39\"/>\n<polygon fill=\"black\" stroke=\"black\" points=\"328.9,-183.6 336.73,-176.47 326.16,-177.16 328.9,-183.6\"/>\n</g>\n<!-- 135049469897936* -->\n<g id=\"node5\" class=\"node\">\n<title>135049469897936*</title>\n<ellipse fill=\"none\" stroke=\"black\" cx=\"149\" cy=\"-211\" rx=\"27\" ry=\"18\"/>\n<text text-anchor=\"middle\" x=\"149\" y=\"-207.3\" font-family=\"Times,serif\" font-size=\"14.00\">*</text>\n</g>\n<!-- 135049469897936*&#45;&gt;135049469897936 -->\n<g id=\"edge2\" class=\"edge\">\n<title>135049469897936*&#45;&gt;135049469897936</title>\n<path fill=\"none\" stroke=\"black\" d=\"M176.12,-211C184.39,-211 193.82,-211 203.19,-211\"/>\n<polygon fill=\"black\" stroke=\"black\" points=\"203.28,-214.5 213.28,-211 203.28,-207.5 203.28,-214.5\"/>\n</g>\n<!-- 135049678017232 -->\n<g id=\"node6\" class=\"node\">\n<title>135049678017232</title>\n<polygon fill=\"none\" stroke=\"black\" points=\"2,-264.5 2,-333.5 84,-333.5 84,-264.5 2,-264.5\"/>\n<text text-anchor=\"middle\" x=\"43\" y=\"-318.3\" font-family=\"Times,serif\" font-size=\"14.00\">w2</text>\n<polyline fill=\"none\" stroke=\"black\" points=\"2,-310.5 84,-310.5 \"/>\n<text text-anchor=\"middle\" x=\"43\" y=\"-295.3\" font-family=\"Times,serif\" font-size=\"14.00\">data 1.0000</text>\n<polyline fill=\"none\" stroke=\"black\" points=\"2,-287.5 84,-287.5 \"/>\n<text text-anchor=\"middle\" x=\"43\" y=\"-272.3\" font-family=\"Times,serif\" font-size=\"14.00\">grad 0.0000</text>\n</g>\n<!-- 135049678017232&#45;&gt;135049469897936* -->\n<g id=\"edge13\" class=\"edge\">\n<title>135049678017232&#45;&gt;135049469897936*</title>\n<path fill=\"none\" stroke=\"black\" d=\"M84.21,-264.98C97.58,-253.66 112.06,-241.41 123.83,-231.45\"/>\n<polygon fill=\"black\" stroke=\"black\" points=\"126.13,-234.09 131.51,-224.96 121.61,-228.74 126.13,-234.09\"/>\n</g>\n<!-- 135049469870800 -->\n<g id=\"node7\" class=\"node\">\n<title>135049469870800</title>\n<polygon fill=\"none\" stroke=\"black\" points=\"212,-88.5 212,-157.5 297,-157.5 297,-88.5 212,-88.5\"/>\n<text text-anchor=\"middle\" x=\"254.5\" y=\"-142.3\" font-family=\"Times,serif\" font-size=\"14.00\">x1*w1</text>\n<polyline fill=\"none\" stroke=\"black\" points=\"212,-134.5 297,-134.5 \"/>\n<text text-anchor=\"middle\" x=\"254.5\" y=\"-119.3\" font-family=\"Times,serif\" font-size=\"14.00\">data &#45;6.0000</text>\n<polyline fill=\"none\" stroke=\"black\" points=\"212,-111.5 297,-111.5 \"/>\n<text text-anchor=\"middle\" x=\"254.5\" y=\"-96.3\" font-family=\"Times,serif\" font-size=\"14.00\">grad 0.5000</text>\n</g>\n<!-- 135049469870800&#45;&gt;135049463990224+ -->\n<g id=\"edge10\" class=\"edge\">\n<title>135049469870800&#45;&gt;135049463990224+</title>\n<path fill=\"none\" stroke=\"black\" d=\"M297,-140.64C307.21,-144.98 317.97,-149.56 327.61,-153.66\"/>\n<polygon fill=\"black\" stroke=\"black\" points=\"326.24,-156.88 336.81,-157.57 328.98,-150.44 326.24,-156.88\"/>\n</g>\n<!-- 135049469870800* -->\n<g id=\"node8\" class=\"node\">\n<title>135049469870800*</title>\n<ellipse fill=\"none\" stroke=\"black\" cx=\"149\" cy=\"-123\" rx=\"27\" ry=\"18\"/>\n<text text-anchor=\"middle\" x=\"149\" y=\"-119.3\" font-family=\"Times,serif\" font-size=\"14.00\">*</text>\n</g>\n<!-- 135049469870800*&#45;&gt;135049469870800 -->\n<g id=\"edge3\" class=\"edge\">\n<title>135049469870800*&#45;&gt;135049469870800</title>\n<path fill=\"none\" stroke=\"black\" d=\"M176.12,-123C183.87,-123 192.64,-123 201.42,-123\"/>\n<polygon fill=\"black\" stroke=\"black\" points=\"201.68,-126.5 211.68,-123 201.68,-119.5 201.68,-126.5\"/>\n</g>\n<!-- 135049469870864 -->\n<g id=\"node9\" class=\"node\">\n<title>135049469870864</title>\n<polygon fill=\"none\" stroke=\"black\" points=\"0.5,-88.5 0.5,-157.5 85.5,-157.5 85.5,-88.5 0.5,-88.5\"/>\n<text text-anchor=\"middle\" x=\"43\" y=\"-142.3\" font-family=\"Times,serif\" font-size=\"14.00\">w1</text>\n<polyline fill=\"none\" stroke=\"black\" points=\"0.5,-134.5 85.5,-134.5 \"/>\n<text text-anchor=\"middle\" x=\"43\" y=\"-119.3\" font-family=\"Times,serif\" font-size=\"14.00\">data &#45;3.0000</text>\n<polyline fill=\"none\" stroke=\"black\" points=\"0.5,-111.5 85.5,-111.5 \"/>\n<text text-anchor=\"middle\" x=\"43\" y=\"-96.3\" font-family=\"Times,serif\" font-size=\"14.00\">grad 1.0000</text>\n</g>\n<!-- 135049469870864&#45;&gt;135049469870800* -->\n<g id=\"edge7\" class=\"edge\">\n<title>135049469870864&#45;&gt;135049469870800*</title>\n<path fill=\"none\" stroke=\"black\" d=\"M85.7,-123C94.28,-123 103.26,-123 111.63,-123\"/>\n<polygon fill=\"black\" stroke=\"black\" points=\"111.85,-126.5 121.85,-123 111.85,-119.5 111.85,-126.5\"/>\n</g>\n<!-- 135049469870416 -->\n<g id=\"node10\" class=\"node\">\n<title>135049469870416</title>\n<polygon fill=\"none\" stroke=\"black\" points=\"2,-176.5 2,-245.5 84,-245.5 84,-176.5 2,-176.5\"/>\n<text text-anchor=\"middle\" x=\"43\" y=\"-230.3\" font-family=\"Times,serif\" font-size=\"14.00\">x2</text>\n<polyline fill=\"none\" stroke=\"black\" points=\"2,-222.5 84,-222.5 \"/>\n<text text-anchor=\"middle\" x=\"43\" y=\"-207.3\" font-family=\"Times,serif\" font-size=\"14.00\">data 0.0000</text>\n<polyline fill=\"none\" stroke=\"black\" points=\"2,-199.5 84,-199.5 \"/>\n<text text-anchor=\"middle\" x=\"43\" y=\"-184.3\" font-family=\"Times,serif\" font-size=\"14.00\">grad 0.5000</text>\n</g>\n<!-- 135049469870416&#45;&gt;135049469897936* -->\n<g id=\"edge11\" class=\"edge\">\n<title>135049469870416&#45;&gt;135049469897936*</title>\n<path fill=\"none\" stroke=\"black\" d=\"M84.21,-211C93.25,-211 102.79,-211 111.66,-211\"/>\n<polygon fill=\"black\" stroke=\"black\" points=\"111.69,-214.5 121.69,-211 111.69,-207.5 111.69,-214.5\"/>\n</g>\n<!-- 135049463240016 -->\n<g id=\"node11\" class=\"node\">\n<title>135049463240016</title>\n<polygon fill=\"none\" stroke=\"black\" points=\"0,-0.5 0,-69.5 86,-69.5 86,-0.5 0,-0.5\"/>\n<text text-anchor=\"middle\" x=\"43\" y=\"-54.3\" font-family=\"Times,serif\" font-size=\"14.00\">x1</text>\n<polyline fill=\"none\" stroke=\"black\" points=\"0,-46.5 86,-46.5 \"/>\n<text text-anchor=\"middle\" x=\"43\" y=\"-31.3\" font-family=\"Times,serif\" font-size=\"14.00\">data 2.0000</text>\n<polyline fill=\"none\" stroke=\"black\" points=\"0,-23.5 86,-23.5 \"/>\n<text text-anchor=\"middle\" x=\"43\" y=\"-8.3\" font-family=\"Times,serif\" font-size=\"14.00\">grad &#45;1.5000</text>\n</g>\n<!-- 135049463240016&#45;&gt;135049469870800* -->\n<g id=\"edge14\" class=\"edge\">\n<title>135049463240016&#45;&gt;135049469870800*</title>\n<path fill=\"none\" stroke=\"black\" d=\"M84.81,-69.53C97.9,-80.61 111.99,-92.53 123.54,-102.3\"/>\n<polygon fill=\"black\" stroke=\"black\" points=\"121.55,-105.2 131.44,-108.99 126.07,-99.86 121.55,-105.2\"/>\n</g>\n<!-- 135049464000400 -->\n<g id=\"node12\" class=\"node\">\n<title>135049464000400</title>\n<polygon fill=\"none\" stroke=\"black\" points=\"655,-176.5 655,-245.5 737,-245.5 737,-176.5 655,-176.5\"/>\n<text text-anchor=\"middle\" x=\"696\" y=\"-230.3\" font-family=\"Times,serif\" font-size=\"14.00\">n</text>\n<polyline fill=\"none\" stroke=\"black\" points=\"655,-222.5 737,-222.5 \"/>\n<text text-anchor=\"middle\" x=\"696\" y=\"-207.3\" font-family=\"Times,serif\" font-size=\"14.00\">data 0.8814</text>\n<polyline fill=\"none\" stroke=\"black\" points=\"655,-199.5 737,-199.5 \"/>\n<text text-anchor=\"middle\" x=\"696\" y=\"-184.3\" font-family=\"Times,serif\" font-size=\"14.00\">grad 0.5000</text>\n</g>\n<!-- 135049464000400&#45;&gt;135049463988368tanh -->\n<g id=\"edge12\" class=\"edge\">\n<title>135049464000400&#45;&gt;135049463988368tanh</title>\n<path fill=\"none\" stroke=\"black\" d=\"M737.02,-211C745.5,-211 754.4,-211 762.73,-211\"/>\n<polygon fill=\"black\" stroke=\"black\" points=\"762.89,-214.5 772.89,-211 762.89,-207.5 762.89,-214.5\"/>\n</g>\n<!-- 135049464000400+&#45;&gt;135049464000400 -->\n<g id=\"edge4\" class=\"edge\">\n<title>135049464000400+&#45;&gt;135049464000400</title>\n<path fill=\"none\" stroke=\"black\" d=\"M619,-211C626.81,-211 635.65,-211 644.48,-211\"/>\n<polygon fill=\"black\" stroke=\"black\" points=\"644.76,-214.5 654.76,-211 644.76,-207.5 644.76,-214.5\"/>\n</g>\n<!-- 135049463990224 -->\n<g id=\"node14\" class=\"node\">\n<title>135049463990224</title>\n<polygon fill=\"none\" stroke=\"black\" points=\"423,-132.5 423,-201.5 529,-201.5 529,-132.5 423,-132.5\"/>\n<text text-anchor=\"middle\" x=\"476\" y=\"-186.3\" font-family=\"Times,serif\" font-size=\"14.00\">x1*w1 + x2*w2</text>\n<polyline fill=\"none\" stroke=\"black\" points=\"423,-178.5 529,-178.5 \"/>\n<text text-anchor=\"middle\" x=\"476\" y=\"-163.3\" font-family=\"Times,serif\" font-size=\"14.00\">data &#45;6.0000</text>\n<polyline fill=\"none\" stroke=\"black\" points=\"423,-155.5 529,-155.5 \"/>\n<text text-anchor=\"middle\" x=\"476\" y=\"-140.3\" font-family=\"Times,serif\" font-size=\"14.00\">grad 0.5000</text>\n</g>\n<!-- 135049463990224&#45;&gt;135049464000400+ -->\n<g id=\"edge9\" class=\"edge\">\n<title>135049463990224&#45;&gt;135049464000400+</title>\n<path fill=\"none\" stroke=\"black\" d=\"M529.33,-187.2C539.39,-191.08 549.64,-195.04 558.83,-198.58\"/>\n<polygon fill=\"black\" stroke=\"black\" points=\"557.72,-201.91 568.31,-202.24 560.24,-195.38 557.72,-201.91\"/>\n</g>\n<!-- 135049463990224+&#45;&gt;135049463990224 -->\n<g id=\"edge5\" class=\"edge\">\n<title>135049463990224+&#45;&gt;135049463990224</title>\n<path fill=\"none\" stroke=\"black\" d=\"M387.15,-167C394.89,-167 403.71,-167 412.71,-167\"/>\n<polygon fill=\"black\" stroke=\"black\" points=\"412.9,-170.5 422.9,-167 412.9,-163.5 412.9,-170.5\"/>\n</g>\n</g>\n</svg>\n",
            "text/plain": [
              "<graphviz.graphs.Digraph at 0x7ad3a7489150>"
            ]
          },
          "metadata": {},
          "execution_count": 14
        }
      ]
    },
    {
      "cell_type": "code",
      "source": [
        "\n",
        "# inputs x1,x2\n",
        "x1 = Value(2.0, label='x1')\n",
        "x2 = Value(0.0, label='x2')\n",
        "# weights w1,w2\n",
        "w1 = Value(-3.0, label='w1')\n",
        "w2 = Value(1.0, label='w2')\n",
        "# bias of the neuron\n",
        "b = Value(6.8813735870195432, label='b')\n",
        "# x1*w1 + x2*w2 + b\n",
        "x1w1 = x1*w1; x1w1.label = 'x1*w1'\n",
        "x2w2 = x2*w2; x2w2.label = 'x2*w2'\n",
        "x1w1x2w2 = x1w1 + x2w2; x1w1x2w2.label = 'x1*w1 + x2*w2'\n",
        "n = x1w1x2w2 + b; n.label = 'n'\n",
        "# ----\n",
        "e = (2*n).exp()\n",
        "o = (e - 1) / (e + 1)\n",
        "# ----\n",
        "o.label = 'o'\n",
        "o.backward()\n",
        "draw_dot(o)"
      ],
      "metadata": {
        "colab": {
          "base_uri": "https://localhost:8080/",
          "height": 601
        },
        "id": "Oy63rNNrbIiQ",
        "outputId": "8eed4f82-1c09-4d94-f208-19241067e821"
      },
      "execution_count": 15,
      "outputs": [
        {
          "output_type": "execute_result",
          "data": {
            "image/svg+xml": "<?xml version=\"1.0\" encoding=\"UTF-8\" standalone=\"no\"?>\n<!DOCTYPE svg PUBLIC \"-//W3C//DTD SVG 1.1//EN\"\n \"http://www.w3.org/Graphics/SVG/1.1/DTD/svg11.dtd\">\n<!-- Generated by graphviz version 2.43.0 (0)\n -->\n<!-- Title: %3 Pages: 1 -->\n<svg width=\"1821pt\" height=\"420pt\"\n viewBox=\"0.00 0.00 1821.00 420.00\" xmlns=\"http://www.w3.org/2000/svg\" xmlns:xlink=\"http://www.w3.org/1999/xlink\">\n<g id=\"graph0\" class=\"graph\" transform=\"scale(1 1) rotate(0) translate(4 416)\">\n<title>%3</title>\n<polygon fill=\"white\" stroke=\"transparent\" points=\"-4,4 -4,-416 1817,-416 1817,4 -4,4\"/>\n<!-- 135049474109520 -->\n<g id=\"node1\" class=\"node\">\n<title>135049474109520</title>\n<polygon fill=\"none\" stroke=\"black\" points=\"0,-342.5 0,-411.5 86,-411.5 86,-342.5 0,-342.5\"/>\n<text text-anchor=\"middle\" x=\"43\" y=\"-396.3\" font-family=\"Times,serif\" font-size=\"14.00\">x1</text>\n<polyline fill=\"none\" stroke=\"black\" points=\"0,-388.5 86,-388.5 \"/>\n<text text-anchor=\"middle\" x=\"43\" y=\"-373.3\" font-family=\"Times,serif\" font-size=\"14.00\">data 2.0000</text>\n<polyline fill=\"none\" stroke=\"black\" points=\"0,-365.5 86,-365.5 \"/>\n<text text-anchor=\"middle\" x=\"43\" y=\"-350.3\" font-family=\"Times,serif\" font-size=\"14.00\">grad &#45;1.5000</text>\n</g>\n<!-- 135049474109904* -->\n<g id=\"node4\" class=\"node\">\n<title>135049474109904*</title>\n<ellipse fill=\"none\" stroke=\"black\" cx=\"149\" cy=\"-289\" rx=\"27\" ry=\"18\"/>\n<text text-anchor=\"middle\" x=\"149\" y=\"-285.3\" font-family=\"Times,serif\" font-size=\"14.00\">*</text>\n</g>\n<!-- 135049474109520&#45;&gt;135049474109904* -->\n<g id=\"edge22\" class=\"edge\">\n<title>135049474109520&#45;&gt;135049474109904*</title>\n<path fill=\"none\" stroke=\"black\" d=\"M84.81,-342.47C97.9,-331.39 111.99,-319.47 123.54,-309.7\"/>\n<polygon fill=\"black\" stroke=\"black\" points=\"126.07,-312.14 131.44,-303.01 121.55,-306.8 126.07,-312.14\"/>\n</g>\n<!-- 135049474109840 -->\n<g id=\"node2\" class=\"node\">\n<title>135049474109840</title>\n<polygon fill=\"none\" stroke=\"black\" points=\"0.5,-254.5 0.5,-323.5 85.5,-323.5 85.5,-254.5 0.5,-254.5\"/>\n<text text-anchor=\"middle\" x=\"43\" y=\"-308.3\" font-family=\"Times,serif\" font-size=\"14.00\">w1</text>\n<polyline fill=\"none\" stroke=\"black\" points=\"0.5,-300.5 85.5,-300.5 \"/>\n<text text-anchor=\"middle\" x=\"43\" y=\"-285.3\" font-family=\"Times,serif\" font-size=\"14.00\">data &#45;3.0000</text>\n<polyline fill=\"none\" stroke=\"black\" points=\"0.5,-277.5 85.5,-277.5 \"/>\n<text text-anchor=\"middle\" x=\"43\" y=\"-262.3\" font-family=\"Times,serif\" font-size=\"14.00\">grad 1.0000</text>\n</g>\n<!-- 135049474109840&#45;&gt;135049474109904* -->\n<g id=\"edge19\" class=\"edge\">\n<title>135049474109840&#45;&gt;135049474109904*</title>\n<path fill=\"none\" stroke=\"black\" d=\"M85.7,-289C94.28,-289 103.26,-289 111.63,-289\"/>\n<polygon fill=\"black\" stroke=\"black\" points=\"111.85,-292.5 121.85,-289 111.85,-285.5 111.85,-292.5\"/>\n</g>\n<!-- 135049474109904 -->\n<g id=\"node3\" class=\"node\">\n<title>135049474109904</title>\n<polygon fill=\"none\" stroke=\"black\" points=\"212,-254.5 212,-323.5 297,-323.5 297,-254.5 212,-254.5\"/>\n<text text-anchor=\"middle\" x=\"254.5\" y=\"-308.3\" font-family=\"Times,serif\" font-size=\"14.00\">x1*w1</text>\n<polyline fill=\"none\" stroke=\"black\" points=\"212,-300.5 297,-300.5 \"/>\n<text text-anchor=\"middle\" x=\"254.5\" y=\"-285.3\" font-family=\"Times,serif\" font-size=\"14.00\">data &#45;6.0000</text>\n<polyline fill=\"none\" stroke=\"black\" points=\"212,-277.5 297,-277.5 \"/>\n<text text-anchor=\"middle\" x=\"254.5\" y=\"-262.3\" font-family=\"Times,serif\" font-size=\"14.00\">grad 0.5000</text>\n</g>\n<!-- 135049474110224+ -->\n<g id=\"node13\" class=\"node\">\n<title>135049474110224+</title>\n<ellipse fill=\"none\" stroke=\"black\" cx=\"360\" cy=\"-245\" rx=\"27\" ry=\"18\"/>\n<text text-anchor=\"middle\" x=\"360\" y=\"-241.3\" font-family=\"Times,serif\" font-size=\"14.00\">+</text>\n</g>\n<!-- 135049474109904&#45;&gt;135049474110224+ -->\n<g id=\"edge29\" class=\"edge\">\n<title>135049474109904&#45;&gt;135049474110224+</title>\n<path fill=\"none\" stroke=\"black\" d=\"M297,-271.36C307.21,-267.02 317.97,-262.44 327.61,-258.34\"/>\n<polygon fill=\"black\" stroke=\"black\" points=\"328.98,-261.56 336.81,-254.43 326.24,-255.12 328.98,-261.56\"/>\n</g>\n<!-- 135049474109904*&#45;&gt;135049474109904 -->\n<g id=\"edge1\" class=\"edge\">\n<title>135049474109904*&#45;&gt;135049474109904</title>\n<path fill=\"none\" stroke=\"black\" d=\"M176.12,-289C183.87,-289 192.64,-289 201.42,-289\"/>\n<polygon fill=\"black\" stroke=\"black\" points=\"201.68,-292.5 211.68,-289 201.68,-285.5 201.68,-292.5\"/>\n</g>\n<!-- 135049474109968 -->\n<g id=\"node5\" class=\"node\">\n<title>135049474109968</title>\n<polygon fill=\"none\" stroke=\"black\" points=\"655,-166.5 655,-235.5 737,-235.5 737,-166.5 655,-166.5\"/>\n<text text-anchor=\"middle\" x=\"696\" y=\"-220.3\" font-family=\"Times,serif\" font-size=\"14.00\">n</text>\n<polyline fill=\"none\" stroke=\"black\" points=\"655,-212.5 737,-212.5 \"/>\n<text text-anchor=\"middle\" x=\"696\" y=\"-197.3\" font-family=\"Times,serif\" font-size=\"14.00\">data 0.8814</text>\n<polyline fill=\"none\" stroke=\"black\" points=\"655,-189.5 737,-189.5 \"/>\n<text text-anchor=\"middle\" x=\"696\" y=\"-174.3\" font-family=\"Times,serif\" font-size=\"14.00\">grad 0.5000</text>\n</g>\n<!-- 135049474109008* -->\n<g id=\"node23\" class=\"node\">\n<title>135049474109008*</title>\n<ellipse fill=\"none\" stroke=\"black\" cx=\"800\" cy=\"-157\" rx=\"27\" ry=\"18\"/>\n<text text-anchor=\"middle\" x=\"800\" y=\"-153.3\" font-family=\"Times,serif\" font-size=\"14.00\">*</text>\n</g>\n<!-- 135049474109968&#45;&gt;135049474109008* -->\n<g id=\"edge11\" class=\"edge\">\n<title>135049474109968&#45;&gt;135049474109008*</title>\n<path fill=\"none\" stroke=\"black\" d=\"M737.02,-183.74C747.23,-179.33 758.06,-174.66 767.77,-170.47\"/>\n<polygon fill=\"black\" stroke=\"black\" points=\"769.23,-173.65 777.03,-166.48 766.46,-167.23 769.23,-173.65\"/>\n</g>\n<!-- 135049474109968+ -->\n<g id=\"node6\" class=\"node\">\n<title>135049474109968+</title>\n<ellipse fill=\"none\" stroke=\"black\" cx=\"592\" cy=\"-201\" rx=\"27\" ry=\"18\"/>\n<text text-anchor=\"middle\" x=\"592\" y=\"-197.3\" font-family=\"Times,serif\" font-size=\"14.00\">+</text>\n</g>\n<!-- 135049474109968+&#45;&gt;135049474109968 -->\n<g id=\"edge2\" class=\"edge\">\n<title>135049474109968+&#45;&gt;135049474109968</title>\n<path fill=\"none\" stroke=\"black\" d=\"M619,-201C626.81,-201 635.65,-201 644.48,-201\"/>\n<polygon fill=\"black\" stroke=\"black\" points=\"644.76,-204.5 654.76,-201 644.76,-197.5 644.76,-204.5\"/>\n</g>\n<!-- 135049474099728 -->\n<g id=\"node7\" class=\"node\">\n<title>135049474099728</title>\n<polygon fill=\"none\" stroke=\"black\" points=\"2,-166.5 2,-235.5 84,-235.5 84,-166.5 2,-166.5\"/>\n<text text-anchor=\"middle\" x=\"43\" y=\"-220.3\" font-family=\"Times,serif\" font-size=\"14.00\">x2</text>\n<polyline fill=\"none\" stroke=\"black\" points=\"2,-212.5 84,-212.5 \"/>\n<text text-anchor=\"middle\" x=\"43\" y=\"-197.3\" font-family=\"Times,serif\" font-size=\"14.00\">data 0.0000</text>\n<polyline fill=\"none\" stroke=\"black\" points=\"2,-189.5 84,-189.5 \"/>\n<text text-anchor=\"middle\" x=\"43\" y=\"-174.3\" font-family=\"Times,serif\" font-size=\"14.00\">grad 0.5000</text>\n</g>\n<!-- 135049474110096* -->\n<g id=\"node10\" class=\"node\">\n<title>135049474110096*</title>\n<ellipse fill=\"none\" stroke=\"black\" cx=\"149\" cy=\"-201\" rx=\"27\" ry=\"18\"/>\n<text text-anchor=\"middle\" x=\"149\" y=\"-197.3\" font-family=\"Times,serif\" font-size=\"14.00\">*</text>\n</g>\n<!-- 135049474099728&#45;&gt;135049474110096* -->\n<g id=\"edge25\" class=\"edge\">\n<title>135049474099728&#45;&gt;135049474110096*</title>\n<path fill=\"none\" stroke=\"black\" d=\"M84.21,-201C93.25,-201 102.79,-201 111.66,-201\"/>\n<polygon fill=\"black\" stroke=\"black\" points=\"111.69,-204.5 121.69,-201 111.69,-197.5 111.69,-204.5\"/>\n</g>\n<!-- 135049474110032 -->\n<g id=\"node8\" class=\"node\">\n<title>135049474110032</title>\n<polygon fill=\"none\" stroke=\"black\" points=\"1071.5,-210.5 1071.5,-279.5 1156.5,-279.5 1156.5,-210.5 1071.5,-210.5\"/>\n<text text-anchor=\"middle\" x=\"1114\" y=\"-264.3\" font-family=\"Times,serif\" font-size=\"14.00\"> </text>\n<polyline fill=\"none\" stroke=\"black\" points=\"1071.5,-256.5 1156.5,-256.5 \"/>\n<text text-anchor=\"middle\" x=\"1114\" y=\"-241.3\" font-family=\"Times,serif\" font-size=\"14.00\">data &#45;1.0000</text>\n<polyline fill=\"none\" stroke=\"black\" points=\"1071.5,-233.5 1156.5,-233.5 \"/>\n<text text-anchor=\"middle\" x=\"1114\" y=\"-218.3\" font-family=\"Times,serif\" font-size=\"14.00\">grad 0.1464</text>\n</g>\n<!-- 135049474110288+ -->\n<g id=\"node16\" class=\"node\">\n<title>135049474110288+</title>\n<ellipse fill=\"none\" stroke=\"black\" cx=\"1220\" cy=\"-190\" rx=\"27\" ry=\"18\"/>\n<text text-anchor=\"middle\" x=\"1220\" y=\"-186.3\" font-family=\"Times,serif\" font-size=\"14.00\">+</text>\n</g>\n<!-- 135049474110032&#45;&gt;135049474110288+ -->\n<g id=\"edge12\" class=\"edge\">\n<title>135049474110032&#45;&gt;135049474110288+</title>\n<path fill=\"none\" stroke=\"black\" d=\"M1156.7,-222.95C1167.69,-217.13 1179.32,-210.98 1189.52,-205.59\"/>\n<polygon fill=\"black\" stroke=\"black\" points=\"1191.22,-208.65 1198.42,-200.88 1187.94,-202.46 1191.22,-208.65\"/>\n</g>\n<!-- 135049474110096 -->\n<g id=\"node9\" class=\"node\">\n<title>135049474110096</title>\n<polygon fill=\"none\" stroke=\"black\" points=\"213.5,-166.5 213.5,-235.5 295.5,-235.5 295.5,-166.5 213.5,-166.5\"/>\n<text text-anchor=\"middle\" x=\"254.5\" y=\"-220.3\" font-family=\"Times,serif\" font-size=\"14.00\">x2*w2</text>\n<polyline fill=\"none\" stroke=\"black\" points=\"213.5,-212.5 295.5,-212.5 \"/>\n<text text-anchor=\"middle\" x=\"254.5\" y=\"-197.3\" font-family=\"Times,serif\" font-size=\"14.00\">data 0.0000</text>\n<polyline fill=\"none\" stroke=\"black\" points=\"213.5,-189.5 295.5,-189.5 \"/>\n<text text-anchor=\"middle\" x=\"254.5\" y=\"-174.3\" font-family=\"Times,serif\" font-size=\"14.00\">grad 0.5000</text>\n</g>\n<!-- 135049474110096&#45;&gt;135049474110224+ -->\n<g id=\"edge20\" class=\"edge\">\n<title>135049474110096&#45;&gt;135049474110224+</title>\n<path fill=\"none\" stroke=\"black\" d=\"M295.52,-218.01C306.12,-222.52 317.42,-227.32 327.5,-231.61\"/>\n<polygon fill=\"black\" stroke=\"black\" points=\"326.16,-234.84 336.73,-235.53 328.9,-228.4 326.16,-234.84\"/>\n</g>\n<!-- 135049474110096*&#45;&gt;135049474110096 -->\n<g id=\"edge3\" class=\"edge\">\n<title>135049474110096*&#45;&gt;135049474110096</title>\n<path fill=\"none\" stroke=\"black\" d=\"M176.12,-201C184.39,-201 193.82,-201 203.19,-201\"/>\n<polygon fill=\"black\" stroke=\"black\" points=\"203.28,-204.5 213.28,-201 203.28,-197.5 203.28,-204.5\"/>\n</g>\n<!-- 135049474110160 -->\n<g id=\"node11\" class=\"node\">\n<title>135049474110160</title>\n<polygon fill=\"none\" stroke=\"black\" points=\"1071,-34.5 1071,-103.5 1157,-103.5 1157,-34.5 1071,-34.5\"/>\n<text text-anchor=\"middle\" x=\"1114\" y=\"-88.3\" font-family=\"Times,serif\" font-size=\"14.00\"> </text>\n<polyline fill=\"none\" stroke=\"black\" points=\"1071,-80.5 1157,-80.5 \"/>\n<text text-anchor=\"middle\" x=\"1114\" y=\"-65.3\" font-family=\"Times,serif\" font-size=\"14.00\">data 1.0000</text>\n<polyline fill=\"none\" stroke=\"black\" points=\"1071,-57.5 1157,-57.5 \"/>\n<text text-anchor=\"middle\" x=\"1114\" y=\"-42.3\" font-family=\"Times,serif\" font-size=\"14.00\">grad &#45;0.1036</text>\n</g>\n<!-- 135049474110800+ -->\n<g id=\"node21\" class=\"node\">\n<title>135049474110800+</title>\n<ellipse fill=\"none\" stroke=\"black\" cx=\"1220\" cy=\"-123\" rx=\"27\" ry=\"18\"/>\n<text text-anchor=\"middle\" x=\"1220\" y=\"-119.3\" font-family=\"Times,serif\" font-size=\"14.00\">+</text>\n</g>\n<!-- 135049474110160&#45;&gt;135049474110800+ -->\n<g id=\"edge28\" class=\"edge\">\n<title>135049474110160&#45;&gt;135049474110800+</title>\n<path fill=\"none\" stroke=\"black\" d=\"M1157,-90.81C1167.77,-96.4 1179.13,-102.3 1189.14,-107.5\"/>\n<polygon fill=\"black\" stroke=\"black\" points=\"1187.78,-110.73 1198.26,-112.23 1191,-104.52 1187.78,-110.73\"/>\n</g>\n<!-- 135049474110224 -->\n<g id=\"node12\" class=\"node\">\n<title>135049474110224</title>\n<polygon fill=\"none\" stroke=\"black\" points=\"423,-210.5 423,-279.5 529,-279.5 529,-210.5 423,-210.5\"/>\n<text text-anchor=\"middle\" x=\"476\" y=\"-264.3\" font-family=\"Times,serif\" font-size=\"14.00\">x1*w1 + x2*w2</text>\n<polyline fill=\"none\" stroke=\"black\" points=\"423,-256.5 529,-256.5 \"/>\n<text text-anchor=\"middle\" x=\"476\" y=\"-241.3\" font-family=\"Times,serif\" font-size=\"14.00\">data &#45;6.0000</text>\n<polyline fill=\"none\" stroke=\"black\" points=\"423,-233.5 529,-233.5 \"/>\n<text text-anchor=\"middle\" x=\"476\" y=\"-218.3\" font-family=\"Times,serif\" font-size=\"14.00\">grad 0.5000</text>\n</g>\n<!-- 135049474110224&#45;&gt;135049474109968+ -->\n<g id=\"edge18\" class=\"edge\">\n<title>135049474110224&#45;&gt;135049474109968+</title>\n<path fill=\"none\" stroke=\"black\" d=\"M529.33,-224.8C539.39,-220.92 549.64,-216.96 558.83,-213.42\"/>\n<polygon fill=\"black\" stroke=\"black\" points=\"560.24,-216.62 568.31,-209.76 557.72,-210.09 560.24,-216.62\"/>\n</g>\n<!-- 135049474110224+&#45;&gt;135049474110224 -->\n<g id=\"edge4\" class=\"edge\">\n<title>135049474110224+&#45;&gt;135049474110224</title>\n<path fill=\"none\" stroke=\"black\" d=\"M387.15,-245C394.89,-245 403.71,-245 412.71,-245\"/>\n<polygon fill=\"black\" stroke=\"black\" points=\"412.9,-248.5 422.9,-245 412.9,-241.5 412.9,-248.5\"/>\n</g>\n<!-- 135049463634768 -->\n<g id=\"node14\" class=\"node\">\n<title>135049463634768</title>\n<polygon fill=\"none\" stroke=\"black\" points=\"1283.5,-0.5 1283.5,-69.5 1368.5,-69.5 1368.5,-0.5 1283.5,-0.5\"/>\n<text text-anchor=\"middle\" x=\"1326\" y=\"-54.3\" font-family=\"Times,serif\" font-size=\"14.00\">&#45;1</text>\n<polyline fill=\"none\" stroke=\"black\" points=\"1283.5,-46.5 1368.5,-46.5 \"/>\n<text text-anchor=\"middle\" x=\"1326\" y=\"-31.3\" font-family=\"Times,serif\" font-size=\"14.00\">data &#45;1.0000</text>\n<polyline fill=\"none\" stroke=\"black\" points=\"1283.5,-23.5 1368.5,-23.5 \"/>\n<text text-anchor=\"middle\" x=\"1326\" y=\"-8.3\" font-family=\"Times,serif\" font-size=\"14.00\">grad 0.0000</text>\n</g>\n<!-- 135049474111120**&#45;1 -->\n<g id=\"node25\" class=\"node\">\n<title>135049474111120**&#45;1</title>\n<ellipse fill=\"none\" stroke=\"black\" cx=\"1446\" cy=\"-119\" rx=\"27\" ry=\"18\"/>\n<text text-anchor=\"middle\" x=\"1446\" y=\"-115.3\" font-family=\"Times,serif\" font-size=\"14.00\">**&#45;1</text>\n</g>\n<!-- 135049463634768&#45;&gt;135049474111120**&#45;1 -->\n<g id=\"edge23\" class=\"edge\">\n<title>135049463634768&#45;&gt;135049474111120**&#45;1</title>\n<path fill=\"none\" stroke=\"black\" d=\"M1368.6,-64.62C1385.24,-76.46 1403.91,-89.75 1418.63,-100.23\"/>\n<polygon fill=\"black\" stroke=\"black\" points=\"1416.61,-103.09 1426.79,-106.04 1420.67,-97.39 1416.61,-103.09\"/>\n</g>\n<!-- 135049474110288 -->\n<g id=\"node15\" class=\"node\">\n<title>135049474110288</title>\n<polygon fill=\"none\" stroke=\"black\" points=\"1405,-155.5 1405,-224.5 1487,-224.5 1487,-155.5 1405,-155.5\"/>\n<text text-anchor=\"middle\" x=\"1446\" y=\"-209.3\" font-family=\"Times,serif\" font-size=\"14.00\">+</text>\n<polyline fill=\"none\" stroke=\"black\" points=\"1405,-201.5 1487,-201.5 \"/>\n<text text-anchor=\"middle\" x=\"1446\" y=\"-186.3\" font-family=\"Times,serif\" font-size=\"14.00\">data 4.8284</text>\n<polyline fill=\"none\" stroke=\"black\" points=\"1405,-178.5 1487,-178.5 \"/>\n<text text-anchor=\"middle\" x=\"1446\" y=\"-163.3\" font-family=\"Times,serif\" font-size=\"14.00\">grad 0.1464</text>\n</g>\n<!-- 135049474111248* -->\n<g id=\"node28\" class=\"node\">\n<title>135049474111248*</title>\n<ellipse fill=\"none\" stroke=\"black\" cx=\"1668\" cy=\"-154\" rx=\"27\" ry=\"18\"/>\n<text text-anchor=\"middle\" x=\"1668\" y=\"-150.3\" font-family=\"Times,serif\" font-size=\"14.00\">*</text>\n</g>\n<!-- 135049474110288&#45;&gt;135049474111248* -->\n<g id=\"edge13\" class=\"edge\">\n<title>135049474110288&#45;&gt;135049474111248*</title>\n<path fill=\"none\" stroke=\"black\" d=\"M1487.05,-184.87C1519.05,-180.6 1565.02,-174.1 1605,-167 1613.8,-165.44 1623.25,-163.56 1632.06,-161.72\"/>\n<polygon fill=\"black\" stroke=\"black\" points=\"1632.98,-165.11 1642.03,-159.6 1631.52,-158.26 1632.98,-165.11\"/>\n</g>\n<!-- 135049474110288+&#45;&gt;135049474110288 -->\n<g id=\"edge5\" class=\"edge\">\n<title>135049474110288+&#45;&gt;135049474110288</title>\n<path fill=\"none\" stroke=\"black\" d=\"M1247.13,-190C1283.18,-190 1348.9,-190 1394.66,-190\"/>\n<polygon fill=\"black\" stroke=\"black\" points=\"1394.68,-193.5 1404.68,-190 1394.68,-186.5 1394.68,-193.5\"/>\n</g>\n<!-- 135049474110352 -->\n<g id=\"node17\" class=\"node\">\n<title>135049474110352</title>\n<polygon fill=\"none\" stroke=\"black\" points=\"655,-78.5 655,-147.5 737,-147.5 737,-78.5 655,-78.5\"/>\n<text text-anchor=\"middle\" x=\"696\" y=\"-132.3\" font-family=\"Times,serif\" font-size=\"14.00\"> </text>\n<polyline fill=\"none\" stroke=\"black\" points=\"655,-124.5 737,-124.5 \"/>\n<text text-anchor=\"middle\" x=\"696\" y=\"-109.3\" font-family=\"Times,serif\" font-size=\"14.00\">data 2.0000</text>\n<polyline fill=\"none\" stroke=\"black\" points=\"655,-101.5 737,-101.5 \"/>\n<text text-anchor=\"middle\" x=\"696\" y=\"-86.3\" font-family=\"Times,serif\" font-size=\"14.00\">grad 0.2203</text>\n</g>\n<!-- 135049474110352&#45;&gt;135049474109008* -->\n<g id=\"edge16\" class=\"edge\">\n<title>135049474110352&#45;&gt;135049474109008*</title>\n<path fill=\"none\" stroke=\"black\" d=\"M737.02,-130.26C747.23,-134.67 758.06,-139.34 767.77,-143.53\"/>\n<polygon fill=\"black\" stroke=\"black\" points=\"766.46,-146.77 777.03,-147.52 769.23,-140.35 766.46,-146.77\"/>\n</g>\n<!-- 135049474110608 -->\n<g id=\"node18\" class=\"node\">\n<title>135049474110608</title>\n<polygon fill=\"none\" stroke=\"black\" points=\"1073,-122.5 1073,-191.5 1155,-191.5 1155,-122.5 1073,-122.5\"/>\n<text text-anchor=\"middle\" x=\"1114\" y=\"-176.3\" font-family=\"Times,serif\" font-size=\"14.00\"> </text>\n<polyline fill=\"none\" stroke=\"black\" points=\"1073,-168.5 1155,-168.5 \"/>\n<text text-anchor=\"middle\" x=\"1114\" y=\"-153.3\" font-family=\"Times,serif\" font-size=\"14.00\">data 5.8284</text>\n<polyline fill=\"none\" stroke=\"black\" points=\"1073,-145.5 1155,-145.5 \"/>\n<text text-anchor=\"middle\" x=\"1114\" y=\"-130.3\" font-family=\"Times,serif\" font-size=\"14.00\">grad 0.0429</text>\n</g>\n<!-- 135049474110608&#45;&gt;135049474110288+ -->\n<g id=\"edge26\" class=\"edge\">\n<title>135049474110608&#45;&gt;135049474110288+</title>\n<path fill=\"none\" stroke=\"black\" d=\"M1155.21,-169.76C1165.31,-172.96 1176.03,-176.36 1185.74,-179.45\"/>\n<polygon fill=\"black\" stroke=\"black\" points=\"1184.84,-182.83 1195.43,-182.52 1186.96,-176.16 1184.84,-182.83\"/>\n</g>\n<!-- 135049474110608&#45;&gt;135049474110800+ -->\n<g id=\"edge17\" class=\"edge\">\n<title>135049474110608&#45;&gt;135049474110800+</title>\n<path fill=\"none\" stroke=\"black\" d=\"M1155.21,-143.85C1165.31,-140.55 1176.03,-137.05 1185.74,-133.87\"/>\n<polygon fill=\"black\" stroke=\"black\" points=\"1187.02,-137.14 1195.43,-130.7 1184.84,-130.48 1187.02,-137.14\"/>\n</g>\n<!-- 135049474110608exp -->\n<g id=\"node19\" class=\"node\">\n<title>135049474110608exp</title>\n<ellipse fill=\"none\" stroke=\"black\" cx=\"1008\" cy=\"-157\" rx=\"27\" ry=\"18\"/>\n<text text-anchor=\"middle\" x=\"1008\" y=\"-153.3\" font-family=\"Times,serif\" font-size=\"14.00\">exp</text>\n</g>\n<!-- 135049474110608exp&#45;&gt;135049474110608 -->\n<g id=\"edge6\" class=\"edge\">\n<title>135049474110608exp&#45;&gt;135049474110608</title>\n<path fill=\"none\" stroke=\"black\" d=\"M1035.24,-157C1043.64,-157 1053.23,-157 1062.75,-157\"/>\n<polygon fill=\"black\" stroke=\"black\" points=\"1062.99,-160.5 1072.99,-157 1062.99,-153.5 1062.99,-160.5\"/>\n</g>\n<!-- 135049474110800 -->\n<g id=\"node20\" class=\"node\">\n<title>135049474110800</title>\n<polygon fill=\"none\" stroke=\"black\" points=\"1283,-88.5 1283,-157.5 1369,-157.5 1369,-88.5 1283,-88.5\"/>\n<text text-anchor=\"middle\" x=\"1326\" y=\"-142.3\" font-family=\"Times,serif\" font-size=\"14.00\">+</text>\n<polyline fill=\"none\" stroke=\"black\" points=\"1283,-134.5 1369,-134.5 \"/>\n<text text-anchor=\"middle\" x=\"1326\" y=\"-119.3\" font-family=\"Times,serif\" font-size=\"14.00\">data 6.8284</text>\n<polyline fill=\"none\" stroke=\"black\" points=\"1283,-111.5 1369,-111.5 \"/>\n<text text-anchor=\"middle\" x=\"1326\" y=\"-96.3\" font-family=\"Times,serif\" font-size=\"14.00\">grad &#45;0.1036</text>\n</g>\n<!-- 135049474110800&#45;&gt;135049474111120**&#45;1 -->\n<g id=\"edge14\" class=\"edge\">\n<title>135049474110800&#45;&gt;135049474111120**&#45;1</title>\n<path fill=\"none\" stroke=\"black\" d=\"M1369.27,-121.57C1382.18,-121.13 1396.27,-120.65 1408.75,-120.23\"/>\n<polygon fill=\"black\" stroke=\"black\" points=\"1408.91,-123.73 1418.79,-119.89 1408.68,-116.73 1408.91,-123.73\"/>\n</g>\n<!-- 135049474110800+&#45;&gt;135049474110800 -->\n<g id=\"edge7\" class=\"edge\">\n<title>135049474110800+&#45;&gt;135049474110800</title>\n<path fill=\"none\" stroke=\"black\" d=\"M1247.24,-123C1255.11,-123 1264.04,-123 1272.96,-123\"/>\n<polygon fill=\"black\" stroke=\"black\" points=\"1272.98,-126.5 1282.98,-123 1272.98,-119.5 1272.98,-126.5\"/>\n</g>\n<!-- 135049474109008 -->\n<g id=\"node22\" class=\"node\">\n<title>135049474109008</title>\n<polygon fill=\"none\" stroke=\"black\" points=\"863,-122.5 863,-191.5 945,-191.5 945,-122.5 863,-122.5\"/>\n<text text-anchor=\"middle\" x=\"904\" y=\"-176.3\" font-family=\"Times,serif\" font-size=\"14.00\">*</text>\n<polyline fill=\"none\" stroke=\"black\" points=\"863,-168.5 945,-168.5 \"/>\n<text text-anchor=\"middle\" x=\"904\" y=\"-153.3\" font-family=\"Times,serif\" font-size=\"14.00\">data 1.7627</text>\n<polyline fill=\"none\" stroke=\"black\" points=\"863,-145.5 945,-145.5 \"/>\n<text text-anchor=\"middle\" x=\"904\" y=\"-130.3\" font-family=\"Times,serif\" font-size=\"14.00\">grad 0.2500</text>\n</g>\n<!-- 135049474109008&#45;&gt;135049474110608exp -->\n<g id=\"edge24\" class=\"edge\">\n<title>135049474109008&#45;&gt;135049474110608exp</title>\n<path fill=\"none\" stroke=\"black\" d=\"M945.02,-157C953.5,-157 962.4,-157 970.73,-157\"/>\n<polygon fill=\"black\" stroke=\"black\" points=\"970.89,-160.5 980.89,-157 970.89,-153.5 970.89,-160.5\"/>\n</g>\n<!-- 135049474109008*&#45;&gt;135049474109008 -->\n<g id=\"edge8\" class=\"edge\">\n<title>135049474109008*&#45;&gt;135049474109008</title>\n<path fill=\"none\" stroke=\"black\" d=\"M827,-157C834.81,-157 843.65,-157 852.48,-157\"/>\n<polygon fill=\"black\" stroke=\"black\" points=\"852.76,-160.5 862.76,-157 852.76,-153.5 852.76,-160.5\"/>\n</g>\n<!-- 135049474111120 -->\n<g id=\"node24\" class=\"node\">\n<title>135049474111120</title>\n<polygon fill=\"none\" stroke=\"black\" points=\"1523,-88.5 1523,-157.5 1605,-157.5 1605,-88.5 1523,-88.5\"/>\n<text text-anchor=\"middle\" x=\"1564\" y=\"-142.3\" font-family=\"Times,serif\" font-size=\"14.00\">**</text>\n<polyline fill=\"none\" stroke=\"black\" points=\"1523,-134.5 1605,-134.5 \"/>\n<text text-anchor=\"middle\" x=\"1564\" y=\"-119.3\" font-family=\"Times,serif\" font-size=\"14.00\">data 0.1464</text>\n<polyline fill=\"none\" stroke=\"black\" points=\"1523,-111.5 1605,-111.5 \"/>\n<text text-anchor=\"middle\" x=\"1564\" y=\"-96.3\" font-family=\"Times,serif\" font-size=\"14.00\">grad 4.8284</text>\n</g>\n<!-- 135049474111120&#45;&gt;135049474111248* -->\n<g id=\"edge21\" class=\"edge\">\n<title>135049474111120&#45;&gt;135049474111248*</title>\n<path fill=\"none\" stroke=\"black\" d=\"M1605.02,-135.16C1614.35,-138 1624.19,-140.99 1633.21,-143.73\"/>\n<polygon fill=\"black\" stroke=\"black\" points=\"1632.4,-147.14 1642.99,-146.7 1634.44,-140.45 1632.4,-147.14\"/>\n</g>\n<!-- 135049474111120**&#45;1&#45;&gt;135049474111120 -->\n<g id=\"edge9\" class=\"edge\">\n<title>135049474111120**&#45;1&#45;&gt;135049474111120</title>\n<path fill=\"none\" stroke=\"black\" d=\"M1473.03,-119.9C1484.74,-120.3 1498.98,-120.79 1512.65,-121.26\"/>\n<polygon fill=\"black\" stroke=\"black\" points=\"1512.81,-124.77 1522.93,-121.62 1513.06,-117.78 1512.81,-124.77\"/>\n</g>\n<!-- 135049474098896 -->\n<g id=\"node26\" class=\"node\">\n<title>135049474098896</title>\n<polygon fill=\"none\" stroke=\"black\" points=\"435,-122.5 435,-191.5 517,-191.5 517,-122.5 435,-122.5\"/>\n<text text-anchor=\"middle\" x=\"476\" y=\"-176.3\" font-family=\"Times,serif\" font-size=\"14.00\">b</text>\n<polyline fill=\"none\" stroke=\"black\" points=\"435,-168.5 517,-168.5 \"/>\n<text text-anchor=\"middle\" x=\"476\" y=\"-153.3\" font-family=\"Times,serif\" font-size=\"14.00\">data 6.8814</text>\n<polyline fill=\"none\" stroke=\"black\" points=\"435,-145.5 517,-145.5 \"/>\n<text text-anchor=\"middle\" x=\"476\" y=\"-130.3\" font-family=\"Times,serif\" font-size=\"14.00\">grad 0.5000</text>\n</g>\n<!-- 135049474098896&#45;&gt;135049474109968+ -->\n<g id=\"edge27\" class=\"edge\">\n<title>135049474098896&#45;&gt;135049474109968+</title>\n<path fill=\"none\" stroke=\"black\" d=\"M517.19,-172.51C530.78,-177.76 545.77,-183.54 558.67,-188.52\"/>\n<polygon fill=\"black\" stroke=\"black\" points=\"557.48,-191.81 568.07,-192.15 560,-185.28 557.48,-191.81\"/>\n</g>\n<!-- 135049474111248 -->\n<g id=\"node27\" class=\"node\">\n<title>135049474111248</title>\n<polygon fill=\"none\" stroke=\"black\" points=\"1731,-119.5 1731,-188.5 1813,-188.5 1813,-119.5 1731,-119.5\"/>\n<text text-anchor=\"middle\" x=\"1772\" y=\"-173.3\" font-family=\"Times,serif\" font-size=\"14.00\">o</text>\n<polyline fill=\"none\" stroke=\"black\" points=\"1731,-165.5 1813,-165.5 \"/>\n<text text-anchor=\"middle\" x=\"1772\" y=\"-150.3\" font-family=\"Times,serif\" font-size=\"14.00\">data 0.7071</text>\n<polyline fill=\"none\" stroke=\"black\" points=\"1731,-142.5 1813,-142.5 \"/>\n<text text-anchor=\"middle\" x=\"1772\" y=\"-127.3\" font-family=\"Times,serif\" font-size=\"14.00\">grad 1.0000</text>\n</g>\n<!-- 135049474111248*&#45;&gt;135049474111248 -->\n<g id=\"edge10\" class=\"edge\">\n<title>135049474111248*&#45;&gt;135049474111248</title>\n<path fill=\"none\" stroke=\"black\" d=\"M1695,-154C1702.81,-154 1711.65,-154 1720.48,-154\"/>\n<polygon fill=\"black\" stroke=\"black\" points=\"1720.76,-157.5 1730.76,-154 1720.76,-150.5 1720.76,-157.5\"/>\n</g>\n<!-- 135049474109392 -->\n<g id=\"node29\" class=\"node\">\n<title>135049474109392</title>\n<polygon fill=\"none\" stroke=\"black\" points=\"2,-78.5 2,-147.5 84,-147.5 84,-78.5 2,-78.5\"/>\n<text text-anchor=\"middle\" x=\"43\" y=\"-132.3\" font-family=\"Times,serif\" font-size=\"14.00\">w2</text>\n<polyline fill=\"none\" stroke=\"black\" points=\"2,-124.5 84,-124.5 \"/>\n<text text-anchor=\"middle\" x=\"43\" y=\"-109.3\" font-family=\"Times,serif\" font-size=\"14.00\">data 1.0000</text>\n<polyline fill=\"none\" stroke=\"black\" points=\"2,-101.5 84,-101.5 \"/>\n<text text-anchor=\"middle\" x=\"43\" y=\"-86.3\" font-family=\"Times,serif\" font-size=\"14.00\">grad 0.0000</text>\n</g>\n<!-- 135049474109392&#45;&gt;135049474110096* -->\n<g id=\"edge15\" class=\"edge\">\n<title>135049474109392&#45;&gt;135049474110096*</title>\n<path fill=\"none\" stroke=\"black\" d=\"M84.21,-147.02C97.58,-158.34 112.06,-170.59 123.83,-180.55\"/>\n<polygon fill=\"black\" stroke=\"black\" points=\"121.61,-183.26 131.51,-187.04 126.13,-177.91 121.61,-183.26\"/>\n</g>\n</g>\n</svg>\n",
            "text/plain": [
              "<graphviz.graphs.Digraph at 0x7ad3a7ee7810>"
            ]
          },
          "metadata": {},
          "execution_count": 15
        }
      ]
    },
    {
      "cell_type": "code",
      "source": [
        "#Example of Pythorch\n",
        "import torch\n",
        "import random"
      ],
      "metadata": {
        "id": "KlwJNyvKrZsP"
      },
      "execution_count": 16,
      "outputs": []
    },
    {
      "cell_type": "code",
      "source": [
        "#implementar Neuronas y Layers\n",
        "\n",
        "class Neuron:\n",
        "  def __init__(self, nin):\n",
        "    self.w = [Value(random.uniform(-1,1)) for _ in range(nin)]\n",
        "    self.b = Value(random.uniform(-1,1))\n",
        "\n",
        "  #wx + b\n",
        "  def __call__(self, x):\n",
        "    result = sum((wi*xi for xi,wi in zip(self.w,x)),self.b)\n",
        "    out = result.tanh()\n",
        "    return out\n",
        "\n",
        "  def parametros(self):\n",
        "    return self.w + [self.b]\n",
        "\n",
        "class Layer:\n",
        "  def __init__(self,nin,nop):\n",
        "    self.neurons = [Neuron(nin) for _ in range(nop)]\n",
        "\n",
        "  def __call__(self,x):\n",
        "    outs = [n(x) for n in self.neurons]\n",
        "    return outs[0] if len(outs) == 1 else outs\n",
        "\n",
        "  def parametros(self):\n",
        "    return [p for neuron in self.neurons for p in neuron.parametros()]\n",
        "\n",
        "\n",
        "class MLP:\n",
        "  def __init__(self,nin,nop):\n",
        "    size = [nin] + nop\n",
        "    self.layers = [Layer(size[i],size[i+1]) for i in range(len(nop))]\n",
        "\n",
        "  def __call__(self,x):\n",
        "    for value_layer in self.layers:\n",
        "      x = value_layer(x)\n",
        "    return x\n",
        "\n",
        "\n",
        "  def parametros(self):\n",
        "    return [p for layer in self.layers for p in layer.parametros()]\n",
        "\n"
      ],
      "metadata": {
        "id": "_xkM2DMSrjiW"
      },
      "execution_count": 66,
      "outputs": []
    },
    {
      "cell_type": "code",
      "source": [
        "\n",
        "x = [3.0,6.0]\n",
        "n = MLP(2,[3,1])\n",
        "n(x)\n",
        "\n",
        "\n",
        "\n",
        "#  outputs de los pesos y sesgos de todas las neuronas, y numero total.\n",
        "for p in n.parametros():\n",
        "    print(p)\n",
        "print(len(n.parametros()))\n",
        "\n"
      ],
      "metadata": {
        "colab": {
          "base_uri": "https://localhost:8080/"
        },
        "id": "ob3il7GbdUt0",
        "outputId": "6c75c07f-3a0a-4883-c955-5eff21c69d5b"
      },
      "execution_count": 53,
      "outputs": [
        {
          "output_type": "stream",
          "name": "stdout",
          "text": [
            "Value(number=-0.3250406620078854, op=, label=)\n",
            "Value(number=0.6884694006826, op=, label=)\n",
            "Value(number=0.5958562698847196, op=, label=)\n",
            "Value(number=-0.3960282549044263, op=, label=)\n",
            "Value(number=0.29617777795416766, op=, label=)\n",
            "Value(number=-0.3249936185742506, op=, label=)\n",
            "Value(number=-0.13584422004441787, op=, label=)\n",
            "Value(number=0.5491929517115373, op=, label=)\n",
            "Value(number=0.5194576543103222, op=, label=)\n",
            "Value(number=-0.9026999595149734, op=, label=)\n",
            "Value(number=0.891576282547732, op=, label=)\n",
            "Value(number=0.6329654541256704, op=, label=)\n",
            "Value(number=-0.6077985298949005, op=, label=)\n",
            "13\n"
          ]
        }
      ]
    },
    {
      "cell_type": "code",
      "source": [
        "draw_dot(n(x))"
      ],
      "metadata": {
        "colab": {
          "base_uri": "https://localhost:8080/",
          "height": 1000
        },
        "id": "CyVxDS_uoMgi",
        "outputId": "6f5f548a-ca76-49bd-f72a-4e2d52de0656"
      },
      "execution_count": 54,
      "outputs": [
        {
          "output_type": "execute_result",
          "data": {
            "image/svg+xml": "<?xml version=\"1.0\" encoding=\"UTF-8\" standalone=\"no\"?>\n<!DOCTYPE svg PUBLIC \"-//W3C//DTD SVG 1.1//EN\"\n \"http://www.w3.org/Graphics/SVG/1.1/DTD/svg11.dtd\">\n<!-- Generated by graphviz version 2.43.0 (0)\n -->\n<!-- Title: %3 Pages: 1 -->\n<svg width=\"1992pt\" height=\"914pt\"\n viewBox=\"0.00 0.00 1992.00 914.00\" xmlns=\"http://www.w3.org/2000/svg\" xmlns:xlink=\"http://www.w3.org/1999/xlink\">\n<g id=\"graph0\" class=\"graph\" transform=\"scale(1 1) rotate(0) translate(4 910)\">\n<title>%3</title>\n<polygon fill=\"white\" stroke=\"transparent\" points=\"-4,4 -4,-910 1988,-910 1988,4 -4,4\"/>\n<!-- 135045927645200 -->\n<g id=\"node1\" class=\"node\">\n<title>135045927645200</title>\n<polygon fill=\"none\" stroke=\"black\" points=\"423.5,-88.5 423.5,-157.5 505.5,-157.5 505.5,-88.5 423.5,-88.5\"/>\n<text text-anchor=\"middle\" x=\"464.5\" y=\"-142.3\" font-family=\"Times,serif\" font-size=\"14.00\">*</text>\n<polyline fill=\"none\" stroke=\"black\" points=\"423.5,-134.5 505.5,-134.5 \"/>\n<text text-anchor=\"middle\" x=\"464.5\" y=\"-119.3\" font-family=\"Times,serif\" font-size=\"14.00\">data 4.1308</text>\n<polyline fill=\"none\" stroke=\"black\" points=\"423.5,-111.5 505.5,-111.5 \"/>\n<text text-anchor=\"middle\" x=\"464.5\" y=\"-96.3\" font-family=\"Times,serif\" font-size=\"14.00\">grad 0.0000</text>\n</g>\n<!-- 135045927644944+ -->\n<g id=\"node56\" class=\"node\">\n<title>135045927644944+</title>\n<ellipse fill=\"none\" stroke=\"black\" cx=\"570\" cy=\"-211\" rx=\"27\" ry=\"18\"/>\n<text text-anchor=\"middle\" x=\"570\" y=\"-207.3\" font-family=\"Times,serif\" font-size=\"14.00\">+</text>\n</g>\n<!-- 135045927645200&#45;&gt;135045927644944+ -->\n<g id=\"edge60\" class=\"edge\">\n<title>135045927645200&#45;&gt;135045927644944+</title>\n<path fill=\"none\" stroke=\"black\" d=\"M505.52,-157.02C518.83,-168.34 533.23,-180.59 544.95,-190.55\"/>\n<polygon fill=\"black\" stroke=\"black\" points=\"542.7,-193.23 552.59,-197.04 547.23,-187.9 542.7,-193.23\"/>\n</g>\n<!-- 135045927645200* -->\n<g id=\"node2\" class=\"node\">\n<title>135045927645200*</title>\n<ellipse fill=\"none\" stroke=\"black\" cx=\"359\" cy=\"-123\" rx=\"27\" ry=\"18\"/>\n<text text-anchor=\"middle\" x=\"359\" y=\"-119.3\" font-family=\"Times,serif\" font-size=\"14.00\">*</text>\n</g>\n<!-- 135045927645200*&#45;&gt;135045927645200 -->\n<g id=\"edge1\" class=\"edge\">\n<title>135045927645200*&#45;&gt;135045927645200</title>\n<path fill=\"none\" stroke=\"black\" d=\"M386.12,-123C394.39,-123 403.82,-123 413.19,-123\"/>\n<polygon fill=\"black\" stroke=\"black\" points=\"413.28,-126.5 423.28,-123 413.28,-119.5 413.28,-126.5\"/>\n</g>\n<!-- 135045927645264 -->\n<g id=\"node3\" class=\"node\">\n<title>135045927645264</title>\n<polygon fill=\"none\" stroke=\"black\" points=\"845.5,-176.5 845.5,-245.5 927.5,-245.5 927.5,-176.5 845.5,-176.5\"/>\n<text text-anchor=\"middle\" x=\"886.5\" y=\"-230.3\" font-family=\"Times,serif\" font-size=\"14.00\">tanh</text>\n<polyline fill=\"none\" stroke=\"black\" points=\"845.5,-222.5 927.5,-222.5 \"/>\n<text text-anchor=\"middle\" x=\"886.5\" y=\"-207.3\" font-family=\"Times,serif\" font-size=\"14.00\">data 0.9989</text>\n<polyline fill=\"none\" stroke=\"black\" points=\"845.5,-199.5 927.5,-199.5 \"/>\n<text text-anchor=\"middle\" x=\"886.5\" y=\"-184.3\" font-family=\"Times,serif\" font-size=\"14.00\">grad 0.0000</text>\n</g>\n<!-- 135045927738384* -->\n<g id=\"node30\" class=\"node\">\n<title>135045927738384*</title>\n<ellipse fill=\"none\" stroke=\"black\" cx=\"992\" cy=\"-299\" rx=\"27\" ry=\"18\"/>\n<text text-anchor=\"middle\" x=\"992\" y=\"-295.3\" font-family=\"Times,serif\" font-size=\"14.00\">*</text>\n</g>\n<!-- 135045927645264&#45;&gt;135045927738384* -->\n<g id=\"edge62\" class=\"edge\">\n<title>135045927645264&#45;&gt;135045927738384*</title>\n<path fill=\"none\" stroke=\"black\" d=\"M927.52,-245.02C940.83,-256.34 955.23,-268.59 966.95,-278.55\"/>\n<polygon fill=\"black\" stroke=\"black\" points=\"964.7,-281.23 974.59,-285.04 969.23,-275.9 964.7,-281.23\"/>\n</g>\n<!-- 135045927645264tanh -->\n<g id=\"node4\" class=\"node\">\n<title>135045927645264tanh</title>\n<ellipse fill=\"none\" stroke=\"black\" cx=\"781\" cy=\"-211\" rx=\"27\" ry=\"18\"/>\n<text text-anchor=\"middle\" x=\"781\" y=\"-207.3\" font-family=\"Times,serif\" font-size=\"14.00\">tanh</text>\n</g>\n<!-- 135045927645264tanh&#45;&gt;135045927645264 -->\n<g id=\"edge2\" class=\"edge\">\n<title>135045927645264tanh&#45;&gt;135045927645264</title>\n<path fill=\"none\" stroke=\"black\" d=\"M808.12,-211C816.39,-211 825.82,-211 835.19,-211\"/>\n<polygon fill=\"black\" stroke=\"black\" points=\"835.28,-214.5 845.28,-211 835.28,-207.5 835.28,-214.5\"/>\n</g>\n<!-- 135045927647312 -->\n<g id=\"node5\" class=\"node\">\n<title>135045927647312</title>\n<polygon fill=\"none\" stroke=\"black\" points=\"211,-264.5 211,-333.5 296,-333.5 296,-264.5 211,-264.5\"/>\n<text text-anchor=\"middle\" x=\"253.5\" y=\"-318.3\" font-family=\"Times,serif\" font-size=\"14.00\">*</text>\n<polyline fill=\"none\" stroke=\"black\" points=\"211,-310.5 296,-310.5 \"/>\n<text text-anchor=\"middle\" x=\"253.5\" y=\"-295.3\" font-family=\"Times,serif\" font-size=\"14.00\">data &#45;0.9751</text>\n<polyline fill=\"none\" stroke=\"black\" points=\"211,-287.5 296,-287.5 \"/>\n<text text-anchor=\"middle\" x=\"253.5\" y=\"-272.3\" font-family=\"Times,serif\" font-size=\"14.00\">grad 0.0000</text>\n</g>\n<!-- 135045927645904+ -->\n<g id=\"node24\" class=\"node\">\n<title>135045927645904+</title>\n<ellipse fill=\"none\" stroke=\"black\" cx=\"359\" cy=\"-211\" rx=\"27\" ry=\"18\"/>\n<text text-anchor=\"middle\" x=\"359\" y=\"-207.3\" font-family=\"Times,serif\" font-size=\"14.00\">+</text>\n</g>\n<!-- 135045927647312&#45;&gt;135045927645904+ -->\n<g id=\"edge41\" class=\"edge\">\n<title>135045927647312&#45;&gt;135045927645904+</title>\n<path fill=\"none\" stroke=\"black\" d=\"M295.11,-264.47C308.14,-253.39 322.17,-241.47 333.66,-231.7\"/>\n<polygon fill=\"black\" stroke=\"black\" points=\"336.17,-234.15 341.52,-225.01 331.64,-228.82 336.17,-234.15\"/>\n</g>\n<!-- 135045927647312* -->\n<g id=\"node6\" class=\"node\">\n<title>135045927647312*</title>\n<ellipse fill=\"none\" stroke=\"black\" cx=\"148\" cy=\"-299\" rx=\"27\" ry=\"18\"/>\n<text text-anchor=\"middle\" x=\"148\" y=\"-295.3\" font-family=\"Times,serif\" font-size=\"14.00\">*</text>\n</g>\n<!-- 135045927647312*&#45;&gt;135045927647312 -->\n<g id=\"edge3\" class=\"edge\">\n<title>135045927647312*&#45;&gt;135045927647312</title>\n<path fill=\"none\" stroke=\"black\" d=\"M175.12,-299C182.87,-299 191.64,-299 200.42,-299\"/>\n<polygon fill=\"black\" stroke=\"black\" points=\"200.68,-302.5 210.68,-299 200.68,-295.5 200.68,-302.5\"/>\n</g>\n<!-- 135045927745616 -->\n<g id=\"node7\" class=\"node\">\n<title>135045927745616</title>\n<polygon fill=\"none\" stroke=\"black\" points=\"1267.5,-616.5 1267.5,-685.5 1349.5,-685.5 1349.5,-616.5 1267.5,-616.5\"/>\n<text text-anchor=\"middle\" x=\"1308.5\" y=\"-670.3\" font-family=\"Times,serif\" font-size=\"14.00\">tanh</text>\n<polyline fill=\"none\" stroke=\"black\" points=\"1267.5,-662.5 1349.5,-662.5 \"/>\n<text text-anchor=\"middle\" x=\"1308.5\" y=\"-647.3\" font-family=\"Times,serif\" font-size=\"14.00\">data 0.9978</text>\n<polyline fill=\"none\" stroke=\"black\" points=\"1267.5,-639.5 1349.5,-639.5 \"/>\n<text text-anchor=\"middle\" x=\"1308.5\" y=\"-624.3\" font-family=\"Times,serif\" font-size=\"14.00\">grad 0.0000</text>\n</g>\n<!-- 135045927743248* -->\n<g id=\"node60\" class=\"node\">\n<title>135045927743248*</title>\n<ellipse fill=\"none\" stroke=\"black\" cx=\"1414\" cy=\"-563\" rx=\"27\" ry=\"18\"/>\n<text text-anchor=\"middle\" x=\"1414\" y=\"-559.3\" font-family=\"Times,serif\" font-size=\"14.00\">*</text>\n</g>\n<!-- 135045927745616&#45;&gt;135045927743248* -->\n<g id=\"edge51\" class=\"edge\">\n<title>135045927745616&#45;&gt;135045927743248*</title>\n<path fill=\"none\" stroke=\"black\" d=\"M1349.52,-616.98C1362.83,-605.66 1377.23,-593.41 1388.95,-583.45\"/>\n<polygon fill=\"black\" stroke=\"black\" points=\"1391.23,-586.1 1396.59,-576.96 1386.7,-580.77 1391.23,-586.1\"/>\n</g>\n<!-- 135045927745616tanh -->\n<g id=\"node8\" class=\"node\">\n<title>135045927745616tanh</title>\n<ellipse fill=\"none\" stroke=\"black\" cx=\"1203\" cy=\"-651\" rx=\"27\" ry=\"18\"/>\n<text text-anchor=\"middle\" x=\"1203\" y=\"-647.3\" font-family=\"Times,serif\" font-size=\"14.00\">tanh</text>\n</g>\n<!-- 135045927745616tanh&#45;&gt;135045927745616 -->\n<g id=\"edge4\" class=\"edge\">\n<title>135045927745616tanh&#45;&gt;135045927745616</title>\n<path fill=\"none\" stroke=\"black\" d=\"M1230.12,-651C1238.39,-651 1247.82,-651 1257.19,-651\"/>\n<polygon fill=\"black\" stroke=\"black\" points=\"1257.28,-654.5 1267.28,-651 1257.28,-647.5 1257.28,-654.5\"/>\n</g>\n<!-- 135045927735440 -->\n<g id=\"node9\" class=\"node\">\n<title>135045927735440</title>\n<polygon fill=\"none\" stroke=\"black\" points=\"1688,-484.5 1688,-553.5 1773,-553.5 1773,-484.5 1688,-484.5\"/>\n<text text-anchor=\"middle\" x=\"1730.5\" y=\"-538.3\" font-family=\"Times,serif\" font-size=\"14.00\">+</text>\n<polyline fill=\"none\" stroke=\"black\" points=\"1688,-530.5 1773,-530.5 \"/>\n<text text-anchor=\"middle\" x=\"1730.5\" y=\"-515.3\" font-family=\"Times,serif\" font-size=\"14.00\">data &#45;0.6479</text>\n<polyline fill=\"none\" stroke=\"black\" points=\"1688,-507.5 1773,-507.5 \"/>\n<text text-anchor=\"middle\" x=\"1730.5\" y=\"-492.3\" font-family=\"Times,serif\" font-size=\"14.00\">grad 0.0000</text>\n</g>\n<!-- 135045927734992tanh -->\n<g id=\"node54\" class=\"node\">\n<title>135045927734992tanh</title>\n<ellipse fill=\"none\" stroke=\"black\" cx=\"1836\" cy=\"-519\" rx=\"27\" ry=\"18\"/>\n<text text-anchor=\"middle\" x=\"1836\" y=\"-515.3\" font-family=\"Times,serif\" font-size=\"14.00\">tanh</text>\n</g>\n<!-- 135045927735440&#45;&gt;135045927734992tanh -->\n<g id=\"edge50\" class=\"edge\">\n<title>135045927735440&#45;&gt;135045927734992tanh</title>\n<path fill=\"none\" stroke=\"black\" d=\"M1773,-519C1781.54,-519 1790.47,-519 1798.81,-519\"/>\n<polygon fill=\"black\" stroke=\"black\" points=\"1798.97,-522.5 1808.97,-519 1798.97,-515.5 1798.97,-522.5\"/>\n</g>\n<!-- 135045927735440+ -->\n<g id=\"node10\" class=\"node\">\n<title>135045927735440+</title>\n<ellipse fill=\"none\" stroke=\"black\" cx=\"1625\" cy=\"-519\" rx=\"27\" ry=\"18\"/>\n<text text-anchor=\"middle\" x=\"1625\" y=\"-515.3\" font-family=\"Times,serif\" font-size=\"14.00\">+</text>\n</g>\n<!-- 135045927735440+&#45;&gt;135045927735440 -->\n<g id=\"edge5\" class=\"edge\">\n<title>135045927735440+&#45;&gt;135045927735440</title>\n<path fill=\"none\" stroke=\"black\" d=\"M1652.12,-519C1659.87,-519 1668.64,-519 1677.42,-519\"/>\n<polygon fill=\"black\" stroke=\"black\" points=\"1677.68,-522.5 1687.68,-519 1677.68,-515.5 1677.68,-522.5\"/>\n</g>\n<!-- 135045927741584 -->\n<g id=\"node11\" class=\"node\">\n<title>135045927741584</title>\n<polygon fill=\"none\" stroke=\"black\" points=\"423.5,-836.5 423.5,-905.5 505.5,-905.5 505.5,-836.5 423.5,-836.5\"/>\n<text text-anchor=\"middle\" x=\"464.5\" y=\"-890.3\" font-family=\"Times,serif\" font-size=\"14.00\"> </text>\n<polyline fill=\"none\" stroke=\"black\" points=\"423.5,-882.5 505.5,-882.5 \"/>\n<text text-anchor=\"middle\" x=\"464.5\" y=\"-867.3\" font-family=\"Times,serif\" font-size=\"14.00\">data 3.0000</text>\n<polyline fill=\"none\" stroke=\"black\" points=\"423.5,-859.5 505.5,-859.5 \"/>\n<text text-anchor=\"middle\" x=\"464.5\" y=\"-844.3\" font-family=\"Times,serif\" font-size=\"14.00\">grad 0.0000</text>\n</g>\n<!-- 135045927740816* -->\n<g id=\"node40\" class=\"node\">\n<title>135045927740816*</title>\n<ellipse fill=\"none\" stroke=\"black\" cx=\"570\" cy=\"-827\" rx=\"27\" ry=\"18\"/>\n<text text-anchor=\"middle\" x=\"570\" y=\"-823.3\" font-family=\"Times,serif\" font-size=\"14.00\">*</text>\n</g>\n<!-- 135045927741584&#45;&gt;135045927740816* -->\n<g id=\"edge58\" class=\"edge\">\n<title>135045927741584&#45;&gt;135045927740816*</title>\n<path fill=\"none\" stroke=\"black\" d=\"M505.52,-853.99C516.12,-849.48 527.42,-844.68 537.5,-840.39\"/>\n<polygon fill=\"black\" stroke=\"black\" points=\"538.9,-843.6 546.73,-836.47 536.16,-837.16 538.9,-843.6\"/>\n</g>\n<!-- 135045927731408 -->\n<g id=\"node12\" class=\"node\">\n<title>135045927731408</title>\n<polygon fill=\"none\" stroke=\"black\" points=\"1266,-352.5 1266,-421.5 1351,-421.5 1351,-352.5 1266,-352.5\"/>\n<text text-anchor=\"middle\" x=\"1308.5\" y=\"-406.3\" font-family=\"Times,serif\" font-size=\"14.00\">+</text>\n<polyline fill=\"none\" stroke=\"black\" points=\"1266,-398.5 1351,-398.5 \"/>\n<text text-anchor=\"middle\" x=\"1308.5\" y=\"-383.3\" font-family=\"Times,serif\" font-size=\"14.00\">data &#45;1.5095</text>\n<polyline fill=\"none\" stroke=\"black\" points=\"1266,-375.5 1351,-375.5 \"/>\n<text text-anchor=\"middle\" x=\"1308.5\" y=\"-360.3\" font-family=\"Times,serif\" font-size=\"14.00\">grad 0.0000</text>\n</g>\n<!-- 135045927736848+ -->\n<g id=\"node48\" class=\"node\">\n<title>135045927736848+</title>\n<ellipse fill=\"none\" stroke=\"black\" cx=\"1414\" cy=\"-475\" rx=\"27\" ry=\"18\"/>\n<text text-anchor=\"middle\" x=\"1414\" y=\"-471.3\" font-family=\"Times,serif\" font-size=\"14.00\">+</text>\n</g>\n<!-- 135045927731408&#45;&gt;135045927736848+ -->\n<g id=\"edge29\" class=\"edge\">\n<title>135045927731408&#45;&gt;135045927736848+</title>\n<path fill=\"none\" stroke=\"black\" d=\"M1350.11,-421.53C1363.14,-432.61 1377.17,-444.53 1388.66,-454.3\"/>\n<polygon fill=\"black\" stroke=\"black\" points=\"1386.64,-457.18 1396.52,-460.99 1391.17,-451.85 1386.64,-457.18\"/>\n</g>\n<!-- 135045927731408+ -->\n<g id=\"node13\" class=\"node\">\n<title>135045927731408+</title>\n<ellipse fill=\"none\" stroke=\"black\" cx=\"1203\" cy=\"-387\" rx=\"27\" ry=\"18\"/>\n<text text-anchor=\"middle\" x=\"1203\" y=\"-383.3\" font-family=\"Times,serif\" font-size=\"14.00\">+</text>\n</g>\n<!-- 135045927731408+&#45;&gt;135045927731408 -->\n<g id=\"edge6\" class=\"edge\">\n<title>135045927731408+&#45;&gt;135045927731408</title>\n<path fill=\"none\" stroke=\"black\" d=\"M1230.12,-387C1237.87,-387 1246.64,-387 1255.42,-387\"/>\n<polygon fill=\"black\" stroke=\"black\" points=\"1255.68,-390.5 1265.68,-387 1255.68,-383.5 1255.68,-390.5\"/>\n</g>\n<!-- 135045927645456 -->\n<g id=\"node14\" class=\"node\">\n<title>135045927645456</title>\n<polygon fill=\"none\" stroke=\"black\" points=\"633,-440.5 633,-509.5 718,-509.5 718,-440.5 633,-440.5\"/>\n<text text-anchor=\"middle\" x=\"675.5\" y=\"-494.3\" font-family=\"Times,serif\" font-size=\"14.00\">+</text>\n<polyline fill=\"none\" stroke=\"black\" points=\"633,-486.5 718,-486.5 \"/>\n<text text-anchor=\"middle\" x=\"675.5\" y=\"-471.3\" font-family=\"Times,serif\" font-size=\"14.00\">data &#45;1.5131</text>\n<polyline fill=\"none\" stroke=\"black\" points=\"633,-463.5 718,-463.5 \"/>\n<text text-anchor=\"middle\" x=\"675.5\" y=\"-448.3\" font-family=\"Times,serif\" font-size=\"14.00\">grad 0.0000</text>\n</g>\n<!-- 135045927646672+ -->\n<g id=\"node44\" class=\"node\">\n<title>135045927646672+</title>\n<ellipse fill=\"none\" stroke=\"black\" cx=\"781\" cy=\"-475\" rx=\"27\" ry=\"18\"/>\n<text text-anchor=\"middle\" x=\"781\" y=\"-471.3\" font-family=\"Times,serif\" font-size=\"14.00\">+</text>\n</g>\n<!-- 135045927645456&#45;&gt;135045927646672+ -->\n<g id=\"edge40\" class=\"edge\">\n<title>135045927645456&#45;&gt;135045927646672+</title>\n<path fill=\"none\" stroke=\"black\" d=\"M718,-475C726.54,-475 735.47,-475 743.81,-475\"/>\n<polygon fill=\"black\" stroke=\"black\" points=\"743.97,-478.5 753.97,-475 743.97,-471.5 743.97,-478.5\"/>\n</g>\n<!-- 135045927645456+ -->\n<g id=\"node15\" class=\"node\">\n<title>135045927645456+</title>\n<ellipse fill=\"none\" stroke=\"black\" cx=\"570\" cy=\"-475\" rx=\"27\" ry=\"18\"/>\n<text text-anchor=\"middle\" x=\"570\" y=\"-471.3\" font-family=\"Times,serif\" font-size=\"14.00\">+</text>\n</g>\n<!-- 135045927645456+&#45;&gt;135045927645456 -->\n<g id=\"edge7\" class=\"edge\">\n<title>135045927645456+&#45;&gt;135045927645456</title>\n<path fill=\"none\" stroke=\"black\" d=\"M597.12,-475C604.87,-475 613.64,-475 622.42,-475\"/>\n<polygon fill=\"black\" stroke=\"black\" points=\"622.68,-478.5 632.68,-475 622.68,-471.5 622.68,-478.5\"/>\n</g>\n<!-- 135045927647632 -->\n<g id=\"node16\" class=\"node\">\n<title>135045927647632</title>\n<polygon fill=\"none\" stroke=\"black\" points=\"634.5,-352.5 634.5,-421.5 716.5,-421.5 716.5,-352.5 634.5,-352.5\"/>\n<text text-anchor=\"middle\" x=\"675.5\" y=\"-406.3\" font-family=\"Times,serif\" font-size=\"14.00\">*</text>\n<polyline fill=\"none\" stroke=\"black\" points=\"634.5,-398.5 716.5,-398.5 \"/>\n<text text-anchor=\"middle\" x=\"675.5\" y=\"-383.3\" font-family=\"Times,serif\" font-size=\"14.00\">data 1.7771</text>\n<polyline fill=\"none\" stroke=\"black\" points=\"634.5,-375.5 716.5,-375.5 \"/>\n<text text-anchor=\"middle\" x=\"675.5\" y=\"-360.3\" font-family=\"Times,serif\" font-size=\"14.00\">grad 0.0000</text>\n</g>\n<!-- 135045927647632&#45;&gt;135045927646672+ -->\n<g id=\"edge42\" class=\"edge\">\n<title>135045927647632&#45;&gt;135045927646672+</title>\n<path fill=\"none\" stroke=\"black\" d=\"M716.52,-421.02C729.83,-432.34 744.23,-444.59 755.95,-454.55\"/>\n<polygon fill=\"black\" stroke=\"black\" points=\"753.7,-457.23 763.59,-461.04 758.23,-451.9 753.7,-457.23\"/>\n</g>\n<!-- 135045927647632* -->\n<g id=\"node17\" class=\"node\">\n<title>135045927647632*</title>\n<ellipse fill=\"none\" stroke=\"black\" cx=\"570\" cy=\"-387\" rx=\"27\" ry=\"18\"/>\n<text text-anchor=\"middle\" x=\"570\" y=\"-383.3\" font-family=\"Times,serif\" font-size=\"14.00\">*</text>\n</g>\n<!-- 135045927647632*&#45;&gt;135045927647632 -->\n<g id=\"edge8\" class=\"edge\">\n<title>135045927647632*&#45;&gt;135045927647632</title>\n<path fill=\"none\" stroke=\"black\" d=\"M597.12,-387C605.39,-387 614.82,-387 624.19,-387\"/>\n<polygon fill=\"black\" stroke=\"black\" points=\"624.28,-390.5 634.28,-387 624.28,-383.5 624.28,-390.5\"/>\n</g>\n<!-- 135049471078864 -->\n<g id=\"node18\" class=\"node\">\n<title>135049471078864</title>\n<polygon fill=\"none\" stroke=\"black\" points=\"1056.5,-528.5 1056.5,-597.5 1138.5,-597.5 1138.5,-528.5 1056.5,-528.5\"/>\n<text text-anchor=\"middle\" x=\"1097.5\" y=\"-582.3\" font-family=\"Times,serif\" font-size=\"14.00\"> </text>\n<polyline fill=\"none\" stroke=\"black\" points=\"1056.5,-574.5 1138.5,-574.5 \"/>\n<text text-anchor=\"middle\" x=\"1097.5\" y=\"-559.3\" font-family=\"Times,serif\" font-size=\"14.00\">data 0.8916</text>\n<polyline fill=\"none\" stroke=\"black\" points=\"1056.5,-551.5 1138.5,-551.5 \"/>\n<text text-anchor=\"middle\" x=\"1097.5\" y=\"-536.3\" font-family=\"Times,serif\" font-size=\"14.00\">grad 0.0000</text>\n</g>\n<!-- 135045927732432* -->\n<g id=\"node33\" class=\"node\">\n<title>135045927732432*</title>\n<ellipse fill=\"none\" stroke=\"black\" cx=\"1203\" cy=\"-475\" rx=\"27\" ry=\"18\"/>\n<text text-anchor=\"middle\" x=\"1203\" y=\"-471.3\" font-family=\"Times,serif\" font-size=\"14.00\">*</text>\n</g>\n<!-- 135049471078864&#45;&gt;135045927732432* -->\n<g id=\"edge52\" class=\"edge\">\n<title>135049471078864&#45;&gt;135045927732432*</title>\n<path fill=\"none\" stroke=\"black\" d=\"M1138.52,-528.98C1151.83,-517.66 1166.23,-505.41 1177.95,-495.45\"/>\n<polygon fill=\"black\" stroke=\"black\" points=\"1180.23,-498.1 1185.59,-488.96 1175.7,-492.77 1180.23,-498.1\"/>\n</g>\n<!-- 135045913469392 -->\n<g id=\"node19\" class=\"node\">\n<title>135045913469392</title>\n<polygon fill=\"none\" stroke=\"black\" points=\"0,-308.5 0,-377.5 85,-377.5 85,-308.5 0,-308.5\"/>\n<text text-anchor=\"middle\" x=\"42.5\" y=\"-362.3\" font-family=\"Times,serif\" font-size=\"14.00\"> </text>\n<polyline fill=\"none\" stroke=\"black\" points=\"0,-354.5 85,-354.5 \"/>\n<text text-anchor=\"middle\" x=\"42.5\" y=\"-339.3\" font-family=\"Times,serif\" font-size=\"14.00\">data &#45;0.3250</text>\n<polyline fill=\"none\" stroke=\"black\" points=\"0,-331.5 85,-331.5 \"/>\n<text text-anchor=\"middle\" x=\"42.5\" y=\"-316.3\" font-family=\"Times,serif\" font-size=\"14.00\">grad 0.0000</text>\n</g>\n<!-- 135045913469392&#45;&gt;135045927647312* -->\n<g id=\"edge30\" class=\"edge\">\n<title>135045913469392&#45;&gt;135045927647312*</title>\n<path fill=\"none\" stroke=\"black\" d=\"M85,-325.36C95.21,-321.02 105.97,-316.44 115.61,-312.34\"/>\n<polygon fill=\"black\" stroke=\"black\" points=\"116.98,-315.56 124.81,-308.43 114.24,-309.12 116.98,-315.56\"/>\n</g>\n<!-- 135045927647824 -->\n<g id=\"node20\" class=\"node\">\n<title>135045927647824</title>\n<polygon fill=\"none\" stroke=\"black\" points=\"422,-528.5 422,-597.5 507,-597.5 507,-528.5 422,-528.5\"/>\n<text text-anchor=\"middle\" x=\"464.5\" y=\"-582.3\" font-family=\"Times,serif\" font-size=\"14.00\">*</text>\n<polyline fill=\"none\" stroke=\"black\" points=\"422,-574.5 507,-574.5 \"/>\n<text text-anchor=\"middle\" x=\"464.5\" y=\"-559.3\" font-family=\"Times,serif\" font-size=\"14.00\">data &#45;1.1881</text>\n<polyline fill=\"none\" stroke=\"black\" points=\"422,-551.5 507,-551.5 \"/>\n<text text-anchor=\"middle\" x=\"464.5\" y=\"-536.3\" font-family=\"Times,serif\" font-size=\"14.00\">grad 0.0000</text>\n</g>\n<!-- 135045927647824&#45;&gt;135045927645456+ -->\n<g id=\"edge61\" class=\"edge\">\n<title>135045927647824&#45;&gt;135045927645456+</title>\n<path fill=\"none\" stroke=\"black\" d=\"M506.11,-528.47C519.14,-517.39 533.17,-505.47 544.66,-495.7\"/>\n<polygon fill=\"black\" stroke=\"black\" points=\"547.17,-498.15 552.52,-489.01 542.64,-492.82 547.17,-498.15\"/>\n</g>\n<!-- 135045927647824* -->\n<g id=\"node21\" class=\"node\">\n<title>135045927647824*</title>\n<ellipse fill=\"none\" stroke=\"black\" cx=\"359\" cy=\"-563\" rx=\"27\" ry=\"18\"/>\n<text text-anchor=\"middle\" x=\"359\" y=\"-559.3\" font-family=\"Times,serif\" font-size=\"14.00\">*</text>\n</g>\n<!-- 135045927647824*&#45;&gt;135045927647824 -->\n<g id=\"edge9\" class=\"edge\">\n<title>135045927647824*&#45;&gt;135045927647824</title>\n<path fill=\"none\" stroke=\"black\" d=\"M386.12,-563C393.87,-563 402.64,-563 411.42,-563\"/>\n<polygon fill=\"black\" stroke=\"black\" points=\"411.68,-566.5 421.68,-563 411.68,-559.5 411.68,-566.5\"/>\n</g>\n<!-- 135049471079056 -->\n<g id=\"node22\" class=\"node\">\n<title>135049471079056</title>\n<polygon fill=\"none\" stroke=\"black\" points=\"844,-264.5 844,-333.5 929,-333.5 929,-264.5 844,-264.5\"/>\n<text text-anchor=\"middle\" x=\"886.5\" y=\"-318.3\" font-family=\"Times,serif\" font-size=\"14.00\"> </text>\n<polyline fill=\"none\" stroke=\"black\" points=\"844,-310.5 929,-310.5 \"/>\n<text text-anchor=\"middle\" x=\"886.5\" y=\"-295.3\" font-family=\"Times,serif\" font-size=\"14.00\">data &#45;0.9027</text>\n<polyline fill=\"none\" stroke=\"black\" points=\"844,-287.5 929,-287.5 \"/>\n<text text-anchor=\"middle\" x=\"886.5\" y=\"-272.3\" font-family=\"Times,serif\" font-size=\"14.00\">grad 0.0000</text>\n</g>\n<!-- 135049471079056&#45;&gt;135045927738384* -->\n<g id=\"edge32\" class=\"edge\">\n<title>135049471079056&#45;&gt;135045927738384*</title>\n<path fill=\"none\" stroke=\"black\" d=\"M929,-299C937.54,-299 946.47,-299 954.81,-299\"/>\n<polygon fill=\"black\" stroke=\"black\" points=\"954.97,-302.5 964.97,-299 954.97,-295.5 954.97,-302.5\"/>\n</g>\n<!-- 135045927645904 -->\n<g id=\"node23\" class=\"node\">\n<title>135045927645904</title>\n<polygon fill=\"none\" stroke=\"black\" points=\"422,-176.5 422,-245.5 507,-245.5 507,-176.5 422,-176.5\"/>\n<text text-anchor=\"middle\" x=\"464.5\" y=\"-230.3\" font-family=\"Times,serif\" font-size=\"14.00\">+</text>\n<polyline fill=\"none\" stroke=\"black\" points=\"422,-222.5 507,-222.5 \"/>\n<text text-anchor=\"middle\" x=\"464.5\" y=\"-207.3\" font-family=\"Times,serif\" font-size=\"14.00\">data &#45;0.3793</text>\n<polyline fill=\"none\" stroke=\"black\" points=\"422,-199.5 507,-199.5 \"/>\n<text text-anchor=\"middle\" x=\"464.5\" y=\"-184.3\" font-family=\"Times,serif\" font-size=\"14.00\">grad 0.0000</text>\n</g>\n<!-- 135045927645904&#45;&gt;135045927644944+ -->\n<g id=\"edge26\" class=\"edge\">\n<title>135045927645904&#45;&gt;135045927644944+</title>\n<path fill=\"none\" stroke=\"black\" d=\"M507,-211C515.54,-211 524.47,-211 532.81,-211\"/>\n<polygon fill=\"black\" stroke=\"black\" points=\"532.97,-214.5 542.97,-211 532.97,-207.5 532.97,-214.5\"/>\n</g>\n<!-- 135045927645904+&#45;&gt;135045927645904 -->\n<g id=\"edge10\" class=\"edge\">\n<title>135045927645904+&#45;&gt;135045927645904</title>\n<path fill=\"none\" stroke=\"black\" d=\"M386.12,-211C393.87,-211 402.64,-211 411.42,-211\"/>\n<polygon fill=\"black\" stroke=\"black\" points=\"411.68,-214.5 421.68,-211 411.68,-207.5 411.68,-214.5\"/>\n</g>\n<!-- 135045927731920 -->\n<g id=\"node25\" class=\"node\">\n<title>135045927731920</title>\n<polygon fill=\"none\" stroke=\"black\" points=\"1056.5,-616.5 1056.5,-685.5 1138.5,-685.5 1138.5,-616.5 1056.5,-616.5\"/>\n<text text-anchor=\"middle\" x=\"1097.5\" y=\"-670.3\" font-family=\"Times,serif\" font-size=\"14.00\">+</text>\n<polyline fill=\"none\" stroke=\"black\" points=\"1056.5,-662.5 1138.5,-662.5 \"/>\n<text text-anchor=\"middle\" x=\"1097.5\" y=\"-647.3\" font-family=\"Times,serif\" font-size=\"14.00\">data 3.4071</text>\n<polyline fill=\"none\" stroke=\"black\" points=\"1056.5,-639.5 1138.5,-639.5 \"/>\n<text text-anchor=\"middle\" x=\"1097.5\" y=\"-624.3\" font-family=\"Times,serif\" font-size=\"14.00\">grad 0.0000</text>\n</g>\n<!-- 135045927731920&#45;&gt;135045927745616tanh -->\n<g id=\"edge25\" class=\"edge\">\n<title>135045927731920&#45;&gt;135045927745616tanh</title>\n<path fill=\"none\" stroke=\"black\" d=\"M1138.52,-651C1147.41,-651 1156.8,-651 1165.54,-651\"/>\n<polygon fill=\"black\" stroke=\"black\" points=\"1165.82,-654.5 1175.82,-651 1165.82,-647.5 1165.82,-654.5\"/>\n</g>\n<!-- 135045927731920+ -->\n<g id=\"node26\" class=\"node\">\n<title>135045927731920+</title>\n<ellipse fill=\"none\" stroke=\"black\" cx=\"992\" cy=\"-651\" rx=\"27\" ry=\"18\"/>\n<text text-anchor=\"middle\" x=\"992\" y=\"-647.3\" font-family=\"Times,serif\" font-size=\"14.00\">+</text>\n</g>\n<!-- 135045927731920+&#45;&gt;135045927731920 -->\n<g id=\"edge11\" class=\"edge\">\n<title>135045927731920+&#45;&gt;135045927731920</title>\n<path fill=\"none\" stroke=\"black\" d=\"M1019.12,-651C1027.39,-651 1036.82,-651 1046.19,-651\"/>\n<polygon fill=\"black\" stroke=\"black\" points=\"1046.28,-654.5 1056.28,-651 1046.28,-647.5 1046.28,-654.5\"/>\n</g>\n<!-- 135045927744464 -->\n<g id=\"node27\" class=\"node\">\n<title>135045927744464</title>\n<polygon fill=\"none\" stroke=\"black\" points=\"845.5,-704.5 845.5,-773.5 927.5,-773.5 927.5,-704.5 845.5,-704.5\"/>\n<text text-anchor=\"middle\" x=\"886.5\" y=\"-758.3\" font-family=\"Times,serif\" font-size=\"14.00\">+</text>\n<polyline fill=\"none\" stroke=\"black\" points=\"845.5,-750.5 927.5,-750.5 \"/>\n<text text-anchor=\"middle\" x=\"886.5\" y=\"-735.3\" font-family=\"Times,serif\" font-size=\"14.00\">data 0.1119</text>\n<polyline fill=\"none\" stroke=\"black\" points=\"845.5,-727.5 927.5,-727.5 \"/>\n<text text-anchor=\"middle\" x=\"886.5\" y=\"-712.3\" font-family=\"Times,serif\" font-size=\"14.00\">grad 0.0000</text>\n</g>\n<!-- 135045927744464&#45;&gt;135045927731920+ -->\n<g id=\"edge35\" class=\"edge\">\n<title>135045927744464&#45;&gt;135045927731920+</title>\n<path fill=\"none\" stroke=\"black\" d=\"M927.52,-704.98C940.83,-693.66 955.23,-681.41 966.95,-671.45\"/>\n<polygon fill=\"black\" stroke=\"black\" points=\"969.23,-674.1 974.59,-664.96 964.7,-668.77 969.23,-674.1\"/>\n</g>\n<!-- 135045927744464+ -->\n<g id=\"node28\" class=\"node\">\n<title>135045927744464+</title>\n<ellipse fill=\"none\" stroke=\"black\" cx=\"781\" cy=\"-739\" rx=\"27\" ry=\"18\"/>\n<text text-anchor=\"middle\" x=\"781\" y=\"-735.3\" font-family=\"Times,serif\" font-size=\"14.00\">+</text>\n</g>\n<!-- 135045927744464+&#45;&gt;135045927744464 -->\n<g id=\"edge12\" class=\"edge\">\n<title>135045927744464+&#45;&gt;135045927744464</title>\n<path fill=\"none\" stroke=\"black\" d=\"M808.12,-739C816.39,-739 825.82,-739 835.19,-739\"/>\n<polygon fill=\"black\" stroke=\"black\" points=\"835.28,-742.5 845.28,-739 835.28,-735.5 835.28,-742.5\"/>\n</g>\n<!-- 135045927738384 -->\n<g id=\"node29\" class=\"node\">\n<title>135045927738384</title>\n<polygon fill=\"none\" stroke=\"black\" points=\"1055,-264.5 1055,-333.5 1140,-333.5 1140,-264.5 1055,-264.5\"/>\n<text text-anchor=\"middle\" x=\"1097.5\" y=\"-318.3\" font-family=\"Times,serif\" font-size=\"14.00\">*</text>\n<polyline fill=\"none\" stroke=\"black\" points=\"1055,-310.5 1140,-310.5 \"/>\n<text text-anchor=\"middle\" x=\"1097.5\" y=\"-295.3\" font-family=\"Times,serif\" font-size=\"14.00\">data &#45;0.9017</text>\n<polyline fill=\"none\" stroke=\"black\" points=\"1055,-287.5 1140,-287.5 \"/>\n<text text-anchor=\"middle\" x=\"1097.5\" y=\"-272.3\" font-family=\"Times,serif\" font-size=\"14.00\">grad 0.0000</text>\n</g>\n<!-- 135045927738384&#45;&gt;135045927731408+ -->\n<g id=\"edge45\" class=\"edge\">\n<title>135045927738384&#45;&gt;135045927731408+</title>\n<path fill=\"none\" stroke=\"black\" d=\"M1139.11,-333.53C1152.14,-344.61 1166.17,-356.53 1177.66,-366.3\"/>\n<polygon fill=\"black\" stroke=\"black\" points=\"1175.64,-369.18 1185.52,-372.99 1180.17,-363.85 1175.64,-369.18\"/>\n</g>\n<!-- 135045927738384*&#45;&gt;135045927738384 -->\n<g id=\"edge13\" class=\"edge\">\n<title>135045927738384*&#45;&gt;135045927738384</title>\n<path fill=\"none\" stroke=\"black\" d=\"M1019.12,-299C1026.87,-299 1035.64,-299 1044.42,-299\"/>\n<polygon fill=\"black\" stroke=\"black\" points=\"1044.68,-302.5 1054.68,-299 1044.68,-295.5 1044.68,-302.5\"/>\n</g>\n<!-- 135049688761488 -->\n<g id=\"node31\" class=\"node\">\n<title>135049688761488</title>\n<polygon fill=\"none\" stroke=\"black\" points=\"422,-440.5 422,-509.5 507,-509.5 507,-440.5 422,-440.5\"/>\n<text text-anchor=\"middle\" x=\"464.5\" y=\"-494.3\" font-family=\"Times,serif\" font-size=\"14.00\"> </text>\n<polyline fill=\"none\" stroke=\"black\" points=\"422,-486.5 507,-486.5 \"/>\n<text text-anchor=\"middle\" x=\"464.5\" y=\"-471.3\" font-family=\"Times,serif\" font-size=\"14.00\">data &#45;0.3250</text>\n<polyline fill=\"none\" stroke=\"black\" points=\"422,-463.5 507,-463.5 \"/>\n<text text-anchor=\"middle\" x=\"464.5\" y=\"-448.3\" font-family=\"Times,serif\" font-size=\"14.00\">grad 0.0000</text>\n</g>\n<!-- 135049688761488&#45;&gt;135045927645456+ -->\n<g id=\"edge28\" class=\"edge\">\n<title>135049688761488&#45;&gt;135045927645456+</title>\n<path fill=\"none\" stroke=\"black\" d=\"M507,-475C515.54,-475 524.47,-475 532.81,-475\"/>\n<polygon fill=\"black\" stroke=\"black\" points=\"532.97,-478.5 542.97,-475 532.97,-471.5 532.97,-478.5\"/>\n</g>\n<!-- 135045927732432 -->\n<g id=\"node32\" class=\"node\">\n<title>135045927732432</title>\n<polygon fill=\"none\" stroke=\"black\" points=\"1267.5,-440.5 1267.5,-509.5 1349.5,-509.5 1349.5,-440.5 1267.5,-440.5\"/>\n<text text-anchor=\"middle\" x=\"1308.5\" y=\"-494.3\" font-family=\"Times,serif\" font-size=\"14.00\">*</text>\n<polyline fill=\"none\" stroke=\"black\" points=\"1267.5,-486.5 1349.5,-486.5 \"/>\n<text text-anchor=\"middle\" x=\"1308.5\" y=\"-471.3\" font-family=\"Times,serif\" font-size=\"14.00\">data 0.2300</text>\n<polyline fill=\"none\" stroke=\"black\" points=\"1267.5,-463.5 1349.5,-463.5 \"/>\n<text text-anchor=\"middle\" x=\"1308.5\" y=\"-448.3\" font-family=\"Times,serif\" font-size=\"14.00\">grad 0.0000</text>\n</g>\n<!-- 135045927732432&#45;&gt;135045927736848+ -->\n<g id=\"edge27\" class=\"edge\">\n<title>135045927732432&#45;&gt;135045927736848+</title>\n<path fill=\"none\" stroke=\"black\" d=\"M1349.52,-475C1358.41,-475 1367.8,-475 1376.54,-475\"/>\n<polygon fill=\"black\" stroke=\"black\" points=\"1376.82,-478.5 1386.82,-475 1376.82,-471.5 1376.82,-478.5\"/>\n</g>\n<!-- 135045927732432*&#45;&gt;135045927732432 -->\n<g id=\"edge14\" class=\"edge\">\n<title>135045927732432*&#45;&gt;135045927732432</title>\n<path fill=\"none\" stroke=\"black\" d=\"M1230.12,-475C1238.39,-475 1247.82,-475 1257.19,-475\"/>\n<polygon fill=\"black\" stroke=\"black\" points=\"1257.28,-478.5 1267.28,-475 1257.28,-471.5 1257.28,-478.5\"/>\n</g>\n<!-- 135045927638224 -->\n<g id=\"node34\" class=\"node\">\n<title>135045927638224</title>\n<polygon fill=\"none\" stroke=\"black\" points=\"1.5,-220.5 1.5,-289.5 83.5,-289.5 83.5,-220.5 1.5,-220.5\"/>\n<text text-anchor=\"middle\" x=\"42.5\" y=\"-274.3\" font-family=\"Times,serif\" font-size=\"14.00\"> </text>\n<polyline fill=\"none\" stroke=\"black\" points=\"1.5,-266.5 83.5,-266.5 \"/>\n<text text-anchor=\"middle\" x=\"42.5\" y=\"-251.3\" font-family=\"Times,serif\" font-size=\"14.00\">data 3.0000</text>\n<polyline fill=\"none\" stroke=\"black\" points=\"1.5,-243.5 83.5,-243.5 \"/>\n<text text-anchor=\"middle\" x=\"42.5\" y=\"-228.3\" font-family=\"Times,serif\" font-size=\"14.00\">grad 0.0000</text>\n</g>\n<!-- 135045927638224&#45;&gt;135045927647312* -->\n<g id=\"edge47\" class=\"edge\">\n<title>135045927638224&#45;&gt;135045927647312*</title>\n<path fill=\"none\" stroke=\"black\" d=\"M83.52,-272.01C94.12,-276.52 105.42,-281.32 115.5,-285.61\"/>\n<polygon fill=\"black\" stroke=\"black\" points=\"114.16,-288.84 124.73,-289.53 116.9,-282.4 114.16,-288.84\"/>\n</g>\n<!-- 135049463811344 -->\n<g id=\"node35\" class=\"node\">\n<title>135049463811344</title>\n<polygon fill=\"none\" stroke=\"black\" points=\"422,-748.5 422,-817.5 507,-817.5 507,-748.5 422,-748.5\"/>\n<text text-anchor=\"middle\" x=\"464.5\" y=\"-802.3\" font-family=\"Times,serif\" font-size=\"14.00\"> </text>\n<polyline fill=\"none\" stroke=\"black\" points=\"422,-794.5 507,-794.5 \"/>\n<text text-anchor=\"middle\" x=\"464.5\" y=\"-779.3\" font-family=\"Times,serif\" font-size=\"14.00\">data &#45;0.1358</text>\n<polyline fill=\"none\" stroke=\"black\" points=\"422,-771.5 507,-771.5 \"/>\n<text text-anchor=\"middle\" x=\"464.5\" y=\"-756.3\" font-family=\"Times,serif\" font-size=\"14.00\">grad 0.0000</text>\n</g>\n<!-- 135049463811344&#45;&gt;135045927740816* -->\n<g id=\"edge59\" class=\"edge\">\n<title>135049463811344&#45;&gt;135045927740816*</title>\n<path fill=\"none\" stroke=\"black\" d=\"M507,-800.64C517.21,-804.98 527.97,-809.56 537.61,-813.66\"/>\n<polygon fill=\"black\" stroke=\"black\" points=\"536.24,-816.88 546.81,-817.57 538.98,-810.44 536.24,-816.88\"/>\n</g>\n<!-- 135045927646544 -->\n<g id=\"node36\" class=\"node\">\n<title>135045927646544</title>\n<polygon fill=\"none\" stroke=\"black\" points=\"212.5,-88.5 212.5,-157.5 294.5,-157.5 294.5,-88.5 212.5,-88.5\"/>\n<text text-anchor=\"middle\" x=\"253.5\" y=\"-142.3\" font-family=\"Times,serif\" font-size=\"14.00\"> </text>\n<polyline fill=\"none\" stroke=\"black\" points=\"212.5,-134.5 294.5,-134.5 \"/>\n<text text-anchor=\"middle\" x=\"253.5\" y=\"-119.3\" font-family=\"Times,serif\" font-size=\"14.00\">data 6.0000</text>\n<polyline fill=\"none\" stroke=\"black\" points=\"212.5,-111.5 294.5,-111.5 \"/>\n<text text-anchor=\"middle\" x=\"253.5\" y=\"-96.3\" font-family=\"Times,serif\" font-size=\"14.00\">grad 0.0000</text>\n</g>\n<!-- 135045927646544&#45;&gt;135045927645200* -->\n<g id=\"edge46\" class=\"edge\">\n<title>135045927646544&#45;&gt;135045927645200*</title>\n<path fill=\"none\" stroke=\"black\" d=\"M294.52,-123C303.41,-123 312.8,-123 321.54,-123\"/>\n<polygon fill=\"black\" stroke=\"black\" points=\"321.82,-126.5 331.82,-123 321.82,-119.5 321.82,-126.5\"/>\n</g>\n<!-- 135045927732560 -->\n<g id=\"node37\" class=\"node\">\n<title>135045927732560</title>\n<polygon fill=\"none\" stroke=\"black\" points=\"845.5,-616.5 845.5,-685.5 927.5,-685.5 927.5,-616.5 845.5,-616.5\"/>\n<text text-anchor=\"middle\" x=\"886.5\" y=\"-670.3\" font-family=\"Times,serif\" font-size=\"14.00\">*</text>\n<polyline fill=\"none\" stroke=\"black\" points=\"845.5,-662.5 927.5,-662.5 \"/>\n<text text-anchor=\"middle\" x=\"886.5\" y=\"-647.3\" font-family=\"Times,serif\" font-size=\"14.00\">data 3.2952</text>\n<polyline fill=\"none\" stroke=\"black\" points=\"845.5,-639.5 927.5,-639.5 \"/>\n<text text-anchor=\"middle\" x=\"886.5\" y=\"-624.3\" font-family=\"Times,serif\" font-size=\"14.00\">grad 0.0000</text>\n</g>\n<!-- 135045927732560&#45;&gt;135045927731920+ -->\n<g id=\"edge39\" class=\"edge\">\n<title>135045927732560&#45;&gt;135045927731920+</title>\n<path fill=\"none\" stroke=\"black\" d=\"M927.52,-651C936.41,-651 945.8,-651 954.54,-651\"/>\n<polygon fill=\"black\" stroke=\"black\" points=\"954.82,-654.5 964.82,-651 954.82,-647.5 954.82,-654.5\"/>\n</g>\n<!-- 135045927732560* -->\n<g id=\"node38\" class=\"node\">\n<title>135045927732560*</title>\n<ellipse fill=\"none\" stroke=\"black\" cx=\"781\" cy=\"-651\" rx=\"27\" ry=\"18\"/>\n<text text-anchor=\"middle\" x=\"781\" y=\"-647.3\" font-family=\"Times,serif\" font-size=\"14.00\">*</text>\n</g>\n<!-- 135045927732560*&#45;&gt;135045927732560 -->\n<g id=\"edge15\" class=\"edge\">\n<title>135045927732560*&#45;&gt;135045927732560</title>\n<path fill=\"none\" stroke=\"black\" d=\"M808.12,-651C816.39,-651 825.82,-651 835.19,-651\"/>\n<polygon fill=\"black\" stroke=\"black\" points=\"835.28,-654.5 845.28,-651 835.28,-647.5 835.28,-654.5\"/>\n</g>\n<!-- 135045927740816 -->\n<g id=\"node39\" class=\"node\">\n<title>135045927740816</title>\n<polygon fill=\"none\" stroke=\"black\" points=\"633,-792.5 633,-861.5 718,-861.5 718,-792.5 633,-792.5\"/>\n<text text-anchor=\"middle\" x=\"675.5\" y=\"-846.3\" font-family=\"Times,serif\" font-size=\"14.00\">*</text>\n<polyline fill=\"none\" stroke=\"black\" points=\"633,-838.5 718,-838.5 \"/>\n<text text-anchor=\"middle\" x=\"675.5\" y=\"-823.3\" font-family=\"Times,serif\" font-size=\"14.00\">data &#45;0.4075</text>\n<polyline fill=\"none\" stroke=\"black\" points=\"633,-815.5 718,-815.5 \"/>\n<text text-anchor=\"middle\" x=\"675.5\" y=\"-800.3\" font-family=\"Times,serif\" font-size=\"14.00\">grad 0.0000</text>\n</g>\n<!-- 135045927740816&#45;&gt;135045927744464+ -->\n<g id=\"edge37\" class=\"edge\">\n<title>135045927740816&#45;&gt;135045927744464+</title>\n<path fill=\"none\" stroke=\"black\" d=\"M717.11,-792.47C730.14,-781.39 744.17,-769.47 755.66,-759.7\"/>\n<polygon fill=\"black\" stroke=\"black\" points=\"758.17,-762.15 763.52,-753.01 753.64,-756.82 758.17,-762.15\"/>\n</g>\n<!-- 135045927740816*&#45;&gt;135045927740816 -->\n<g id=\"edge16\" class=\"edge\">\n<title>135045927740816*&#45;&gt;135045927740816</title>\n<path fill=\"none\" stroke=\"black\" d=\"M597.12,-827C604.87,-827 613.64,-827 622.42,-827\"/>\n<polygon fill=\"black\" stroke=\"black\" points=\"622.68,-830.5 632.68,-827 622.68,-823.5 622.68,-830.5\"/>\n</g>\n<!-- 135045913472464 -->\n<g id=\"node41\" class=\"node\">\n<title>135045913472464</title>\n<polygon fill=\"none\" stroke=\"black\" points=\"211,-572.5 211,-641.5 296,-641.5 296,-572.5 211,-572.5\"/>\n<text text-anchor=\"middle\" x=\"253.5\" y=\"-626.3\" font-family=\"Times,serif\" font-size=\"14.00\"> </text>\n<polyline fill=\"none\" stroke=\"black\" points=\"211,-618.5 296,-618.5 \"/>\n<text text-anchor=\"middle\" x=\"253.5\" y=\"-603.3\" font-family=\"Times,serif\" font-size=\"14.00\">data &#45;0.3960</text>\n<polyline fill=\"none\" stroke=\"black\" points=\"211,-595.5 296,-595.5 \"/>\n<text text-anchor=\"middle\" x=\"253.5\" y=\"-580.3\" font-family=\"Times,serif\" font-size=\"14.00\">grad 0.0000</text>\n</g>\n<!-- 135045913472464&#45;&gt;135045927647824* -->\n<g id=\"edge38\" class=\"edge\">\n<title>135045913472464&#45;&gt;135045927647824*</title>\n<path fill=\"none\" stroke=\"black\" d=\"M296,-589.36C306.21,-585.02 316.97,-580.44 326.61,-576.34\"/>\n<polygon fill=\"black\" stroke=\"black\" points=\"327.98,-579.56 335.81,-572.43 325.24,-573.12 327.98,-579.56\"/>\n</g>\n<!-- 135045927644624 -->\n<g id=\"node42\" class=\"node\">\n<title>135045927644624</title>\n<polygon fill=\"none\" stroke=\"black\" points=\"423.5,-352.5 423.5,-421.5 505.5,-421.5 505.5,-352.5 423.5,-352.5\"/>\n<text text-anchor=\"middle\" x=\"464.5\" y=\"-406.3\" font-family=\"Times,serif\" font-size=\"14.00\"> </text>\n<polyline fill=\"none\" stroke=\"black\" points=\"423.5,-398.5 505.5,-398.5 \"/>\n<text text-anchor=\"middle\" x=\"464.5\" y=\"-383.3\" font-family=\"Times,serif\" font-size=\"14.00\">data 6.0000</text>\n<polyline fill=\"none\" stroke=\"black\" points=\"423.5,-375.5 505.5,-375.5 \"/>\n<text text-anchor=\"middle\" x=\"464.5\" y=\"-360.3\" font-family=\"Times,serif\" font-size=\"14.00\">grad 0.0000</text>\n</g>\n<!-- 135045927644624&#45;&gt;135045927647632* -->\n<g id=\"edge33\" class=\"edge\">\n<title>135045927644624&#45;&gt;135045927647632*</title>\n<path fill=\"none\" stroke=\"black\" d=\"M505.52,-387C514.41,-387 523.8,-387 532.54,-387\"/>\n<polygon fill=\"black\" stroke=\"black\" points=\"532.82,-390.5 542.82,-387 532.82,-383.5 532.82,-390.5\"/>\n</g>\n<!-- 135045927646672 -->\n<g id=\"node43\" class=\"node\">\n<title>135045927646672</title>\n<polygon fill=\"none\" stroke=\"black\" points=\"845.5,-440.5 845.5,-509.5 927.5,-509.5 927.5,-440.5 845.5,-440.5\"/>\n<text text-anchor=\"middle\" x=\"886.5\" y=\"-494.3\" font-family=\"Times,serif\" font-size=\"14.00\">+</text>\n<polyline fill=\"none\" stroke=\"black\" points=\"845.5,-486.5 927.5,-486.5 \"/>\n<text text-anchor=\"middle\" x=\"886.5\" y=\"-471.3\" font-family=\"Times,serif\" font-size=\"14.00\">data 0.2640</text>\n<polyline fill=\"none\" stroke=\"black\" points=\"845.5,-463.5 927.5,-463.5 \"/>\n<text text-anchor=\"middle\" x=\"886.5\" y=\"-448.3\" font-family=\"Times,serif\" font-size=\"14.00\">grad 0.0000</text>\n</g>\n<!-- 135045927648784tanh -->\n<g id=\"node46\" class=\"node\">\n<title>135045927648784tanh</title>\n<ellipse fill=\"none\" stroke=\"black\" cx=\"992\" cy=\"-475\" rx=\"27\" ry=\"18\"/>\n<text text-anchor=\"middle\" x=\"992\" y=\"-471.3\" font-family=\"Times,serif\" font-size=\"14.00\">tanh</text>\n</g>\n<!-- 135045927646672&#45;&gt;135045927648784tanh -->\n<g id=\"edge43\" class=\"edge\">\n<title>135045927646672&#45;&gt;135045927648784tanh</title>\n<path fill=\"none\" stroke=\"black\" d=\"M927.52,-475C936.41,-475 945.8,-475 954.54,-475\"/>\n<polygon fill=\"black\" stroke=\"black\" points=\"954.82,-478.5 964.82,-475 954.82,-471.5 954.82,-478.5\"/>\n</g>\n<!-- 135045927646672+&#45;&gt;135045927646672 -->\n<g id=\"edge17\" class=\"edge\">\n<title>135045927646672+&#45;&gt;135045927646672</title>\n<path fill=\"none\" stroke=\"black\" d=\"M808.12,-475C816.39,-475 825.82,-475 835.19,-475\"/>\n<polygon fill=\"black\" stroke=\"black\" points=\"835.28,-478.5 845.28,-475 835.28,-471.5 835.28,-478.5\"/>\n</g>\n<!-- 135045927648784 -->\n<g id=\"node45\" class=\"node\">\n<title>135045927648784</title>\n<polygon fill=\"none\" stroke=\"black\" points=\"1056.5,-440.5 1056.5,-509.5 1138.5,-509.5 1138.5,-440.5 1056.5,-440.5\"/>\n<text text-anchor=\"middle\" x=\"1097.5\" y=\"-494.3\" font-family=\"Times,serif\" font-size=\"14.00\">tanh</text>\n<polyline fill=\"none\" stroke=\"black\" points=\"1056.5,-486.5 1138.5,-486.5 \"/>\n<text text-anchor=\"middle\" x=\"1097.5\" y=\"-471.3\" font-family=\"Times,serif\" font-size=\"14.00\">data 0.2580</text>\n<polyline fill=\"none\" stroke=\"black\" points=\"1056.5,-463.5 1138.5,-463.5 \"/>\n<text text-anchor=\"middle\" x=\"1097.5\" y=\"-448.3\" font-family=\"Times,serif\" font-size=\"14.00\">grad 0.0000</text>\n</g>\n<!-- 135045927648784&#45;&gt;135045927732432* -->\n<g id=\"edge24\" class=\"edge\">\n<title>135045927648784&#45;&gt;135045927732432*</title>\n<path fill=\"none\" stroke=\"black\" d=\"M1138.52,-475C1147.41,-475 1156.8,-475 1165.54,-475\"/>\n<polygon fill=\"black\" stroke=\"black\" points=\"1165.82,-478.5 1175.82,-475 1165.82,-471.5 1165.82,-478.5\"/>\n</g>\n<!-- 135045927648784tanh&#45;&gt;135045927648784 -->\n<g id=\"edge18\" class=\"edge\">\n<title>135045927648784tanh&#45;&gt;135045927648784</title>\n<path fill=\"none\" stroke=\"black\" d=\"M1019.12,-475C1027.39,-475 1036.82,-475 1046.19,-475\"/>\n<polygon fill=\"black\" stroke=\"black\" points=\"1046.28,-478.5 1056.28,-475 1046.28,-471.5 1046.28,-478.5\"/>\n</g>\n<!-- 135045927736848 -->\n<g id=\"node47\" class=\"node\">\n<title>135045927736848</title>\n<polygon fill=\"none\" stroke=\"black\" points=\"1477,-440.5 1477,-509.5 1562,-509.5 1562,-440.5 1477,-440.5\"/>\n<text text-anchor=\"middle\" x=\"1519.5\" y=\"-494.3\" font-family=\"Times,serif\" font-size=\"14.00\">+</text>\n<polyline fill=\"none\" stroke=\"black\" points=\"1477,-486.5 1562,-486.5 \"/>\n<text text-anchor=\"middle\" x=\"1519.5\" y=\"-471.3\" font-family=\"Times,serif\" font-size=\"14.00\">data &#45;1.2795</text>\n<polyline fill=\"none\" stroke=\"black\" points=\"1477,-463.5 1562,-463.5 \"/>\n<text text-anchor=\"middle\" x=\"1519.5\" y=\"-448.3\" font-family=\"Times,serif\" font-size=\"14.00\">grad 0.0000</text>\n</g>\n<!-- 135045927736848&#45;&gt;135045927735440+ -->\n<g id=\"edge44\" class=\"edge\">\n<title>135045927736848&#45;&gt;135045927735440+</title>\n<path fill=\"none\" stroke=\"black\" d=\"M1562,-492.64C1572.21,-496.98 1582.97,-501.56 1592.61,-505.66\"/>\n<polygon fill=\"black\" stroke=\"black\" points=\"1591.24,-508.88 1601.81,-509.57 1593.98,-502.44 1591.24,-508.88\"/>\n</g>\n<!-- 135045927736848+&#45;&gt;135045927736848 -->\n<g id=\"edge19\" class=\"edge\">\n<title>135045927736848+&#45;&gt;135045927736848</title>\n<path fill=\"none\" stroke=\"black\" d=\"M1441.12,-475C1448.87,-475 1457.64,-475 1466.42,-475\"/>\n<polygon fill=\"black\" stroke=\"black\" points=\"1466.68,-478.5 1476.68,-475 1466.68,-471.5 1466.68,-478.5\"/>\n</g>\n<!-- 135049474098704 -->\n<g id=\"node49\" class=\"node\">\n<title>135049474098704</title>\n<polygon fill=\"none\" stroke=\"black\" points=\"634.5,-616.5 634.5,-685.5 716.5,-685.5 716.5,-616.5 634.5,-616.5\"/>\n<text text-anchor=\"middle\" x=\"675.5\" y=\"-670.3\" font-family=\"Times,serif\" font-size=\"14.00\"> </text>\n<polyline fill=\"none\" stroke=\"black\" points=\"634.5,-662.5 716.5,-662.5 \"/>\n<text text-anchor=\"middle\" x=\"675.5\" y=\"-647.3\" font-family=\"Times,serif\" font-size=\"14.00\">data 0.5492</text>\n<polyline fill=\"none\" stroke=\"black\" points=\"634.5,-639.5 716.5,-639.5 \"/>\n<text text-anchor=\"middle\" x=\"675.5\" y=\"-624.3\" font-family=\"Times,serif\" font-size=\"14.00\">grad 0.0000</text>\n</g>\n<!-- 135049474098704&#45;&gt;135045927732560* -->\n<g id=\"edge31\" class=\"edge\">\n<title>135049474098704&#45;&gt;135045927732560*</title>\n<path fill=\"none\" stroke=\"black\" d=\"M716.52,-651C725.41,-651 734.8,-651 743.54,-651\"/>\n<polygon fill=\"black\" stroke=\"black\" points=\"743.82,-654.5 753.82,-651 743.82,-647.5 743.82,-654.5\"/>\n</g>\n<!-- 135045933563408 -->\n<g id=\"node50\" class=\"node\">\n<title>135045933563408</title>\n<polygon fill=\"none\" stroke=\"black\" points=\"634.5,-704.5 634.5,-773.5 716.5,-773.5 716.5,-704.5 634.5,-704.5\"/>\n<text text-anchor=\"middle\" x=\"675.5\" y=\"-758.3\" font-family=\"Times,serif\" font-size=\"14.00\"> </text>\n<polyline fill=\"none\" stroke=\"black\" points=\"634.5,-750.5 716.5,-750.5 \"/>\n<text text-anchor=\"middle\" x=\"675.5\" y=\"-735.3\" font-family=\"Times,serif\" font-size=\"14.00\">data 0.5195</text>\n<polyline fill=\"none\" stroke=\"black\" points=\"634.5,-727.5 716.5,-727.5 \"/>\n<text text-anchor=\"middle\" x=\"675.5\" y=\"-712.3\" font-family=\"Times,serif\" font-size=\"14.00\">grad 0.0000</text>\n</g>\n<!-- 135045933563408&#45;&gt;135045927744464+ -->\n<g id=\"edge23\" class=\"edge\">\n<title>135045933563408&#45;&gt;135045927744464+</title>\n<path fill=\"none\" stroke=\"black\" d=\"M716.52,-739C725.41,-739 734.8,-739 743.54,-739\"/>\n<polygon fill=\"black\" stroke=\"black\" points=\"743.82,-742.5 753.82,-739 743.82,-735.5 743.82,-742.5\"/>\n</g>\n<!-- 135045927646864 -->\n<g id=\"node51\" class=\"node\">\n<title>135045927646864</title>\n<polygon fill=\"none\" stroke=\"black\" points=\"212.5,-484.5 212.5,-553.5 294.5,-553.5 294.5,-484.5 212.5,-484.5\"/>\n<text text-anchor=\"middle\" x=\"253.5\" y=\"-538.3\" font-family=\"Times,serif\" font-size=\"14.00\"> </text>\n<polyline fill=\"none\" stroke=\"black\" points=\"212.5,-530.5 294.5,-530.5 \"/>\n<text text-anchor=\"middle\" x=\"253.5\" y=\"-515.3\" font-family=\"Times,serif\" font-size=\"14.00\">data 3.0000</text>\n<polyline fill=\"none\" stroke=\"black\" points=\"212.5,-507.5 294.5,-507.5 \"/>\n<text text-anchor=\"middle\" x=\"253.5\" y=\"-492.3\" font-family=\"Times,serif\" font-size=\"14.00\">grad 0.0000</text>\n</g>\n<!-- 135045927646864&#45;&gt;135045927647824* -->\n<g id=\"edge57\" class=\"edge\">\n<title>135045927646864&#45;&gt;135045927647824*</title>\n<path fill=\"none\" stroke=\"black\" d=\"M294.52,-536.01C305.12,-540.52 316.42,-545.32 326.5,-549.61\"/>\n<polygon fill=\"black\" stroke=\"black\" points=\"325.16,-552.84 335.73,-553.53 327.9,-546.4 325.16,-552.84\"/>\n</g>\n<!-- 135049471073936 -->\n<g id=\"node52\" class=\"node\">\n<title>135049471073936</title>\n<polygon fill=\"none\" stroke=\"black\" points=\"1055,-352.5 1055,-421.5 1140,-421.5 1140,-352.5 1055,-352.5\"/>\n<text text-anchor=\"middle\" x=\"1097.5\" y=\"-406.3\" font-family=\"Times,serif\" font-size=\"14.00\"> </text>\n<polyline fill=\"none\" stroke=\"black\" points=\"1055,-398.5 1140,-398.5 \"/>\n<text text-anchor=\"middle\" x=\"1097.5\" y=\"-383.3\" font-family=\"Times,serif\" font-size=\"14.00\">data &#45;0.6078</text>\n<polyline fill=\"none\" stroke=\"black\" points=\"1055,-375.5 1140,-375.5 \"/>\n<text text-anchor=\"middle\" x=\"1097.5\" y=\"-360.3\" font-family=\"Times,serif\" font-size=\"14.00\">grad 0.0000</text>\n</g>\n<!-- 135049471073936&#45;&gt;135045927731408+ -->\n<g id=\"edge48\" class=\"edge\">\n<title>135049471073936&#45;&gt;135045927731408+</title>\n<path fill=\"none\" stroke=\"black\" d=\"M1140,-387C1148.54,-387 1157.47,-387 1165.81,-387\"/>\n<polygon fill=\"black\" stroke=\"black\" points=\"1165.97,-390.5 1175.97,-387 1165.97,-383.5 1165.97,-390.5\"/>\n</g>\n<!-- 135045927734992 -->\n<g id=\"node53\" class=\"node\">\n<title>135045927734992</title>\n<polygon fill=\"none\" stroke=\"black\" points=\"1899,-484.5 1899,-553.5 1984,-553.5 1984,-484.5 1899,-484.5\"/>\n<text text-anchor=\"middle\" x=\"1941.5\" y=\"-538.3\" font-family=\"Times,serif\" font-size=\"14.00\">tanh</text>\n<polyline fill=\"none\" stroke=\"black\" points=\"1899,-530.5 1984,-530.5 \"/>\n<text text-anchor=\"middle\" x=\"1941.5\" y=\"-515.3\" font-family=\"Times,serif\" font-size=\"14.00\">data &#45;0.5702</text>\n<polyline fill=\"none\" stroke=\"black\" points=\"1899,-507.5 1984,-507.5 \"/>\n<text text-anchor=\"middle\" x=\"1941.5\" y=\"-492.3\" font-family=\"Times,serif\" font-size=\"14.00\">grad 0.0000</text>\n</g>\n<!-- 135045927734992tanh&#45;&gt;135045927734992 -->\n<g id=\"edge20\" class=\"edge\">\n<title>135045927734992tanh&#45;&gt;135045927734992</title>\n<path fill=\"none\" stroke=\"black\" d=\"M1863.12,-519C1870.87,-519 1879.64,-519 1888.42,-519\"/>\n<polygon fill=\"black\" stroke=\"black\" points=\"1888.68,-522.5 1898.68,-519 1888.68,-515.5 1888.68,-522.5\"/>\n</g>\n<!-- 135045927644944 -->\n<g id=\"node55\" class=\"node\">\n<title>135045927644944</title>\n<polygon fill=\"none\" stroke=\"black\" points=\"634.5,-176.5 634.5,-245.5 716.5,-245.5 716.5,-176.5 634.5,-176.5\"/>\n<text text-anchor=\"middle\" x=\"675.5\" y=\"-230.3\" font-family=\"Times,serif\" font-size=\"14.00\">+</text>\n<polyline fill=\"none\" stroke=\"black\" points=\"634.5,-222.5 716.5,-222.5 \"/>\n<text text-anchor=\"middle\" x=\"675.5\" y=\"-207.3\" font-family=\"Times,serif\" font-size=\"14.00\">data 3.7516</text>\n<polyline fill=\"none\" stroke=\"black\" points=\"634.5,-199.5 716.5,-199.5 \"/>\n<text text-anchor=\"middle\" x=\"675.5\" y=\"-184.3\" font-family=\"Times,serif\" font-size=\"14.00\">grad 0.0000</text>\n</g>\n<!-- 135045927644944&#45;&gt;135045927645264tanh -->\n<g id=\"edge49\" class=\"edge\">\n<title>135045927644944&#45;&gt;135045927645264tanh</title>\n<path fill=\"none\" stroke=\"black\" d=\"M716.52,-211C725.41,-211 734.8,-211 743.54,-211\"/>\n<polygon fill=\"black\" stroke=\"black\" points=\"743.82,-214.5 753.82,-211 743.82,-207.5 743.82,-214.5\"/>\n</g>\n<!-- 135045927644944+&#45;&gt;135045927644944 -->\n<g id=\"edge21\" class=\"edge\">\n<title>135045927644944+&#45;&gt;135045927644944</title>\n<path fill=\"none\" stroke=\"black\" d=\"M597.12,-211C605.39,-211 614.82,-211 624.19,-211\"/>\n<polygon fill=\"black\" stroke=\"black\" points=\"624.28,-214.5 634.28,-211 624.28,-207.5 624.28,-214.5\"/>\n</g>\n<!-- 135045913476880 -->\n<g id=\"node57\" class=\"node\">\n<title>135045913476880</title>\n<polygon fill=\"none\" stroke=\"black\" points=\"212.5,-0.5 212.5,-69.5 294.5,-69.5 294.5,-0.5 212.5,-0.5\"/>\n<text text-anchor=\"middle\" x=\"253.5\" y=\"-54.3\" font-family=\"Times,serif\" font-size=\"14.00\"> </text>\n<polyline fill=\"none\" stroke=\"black\" points=\"212.5,-46.5 294.5,-46.5 \"/>\n<text text-anchor=\"middle\" x=\"253.5\" y=\"-31.3\" font-family=\"Times,serif\" font-size=\"14.00\">data 0.6885</text>\n<polyline fill=\"none\" stroke=\"black\" points=\"212.5,-23.5 294.5,-23.5 \"/>\n<text text-anchor=\"middle\" x=\"253.5\" y=\"-8.3\" font-family=\"Times,serif\" font-size=\"14.00\">grad 0.0000</text>\n</g>\n<!-- 135045913476880&#45;&gt;135045927645200* -->\n<g id=\"edge53\" class=\"edge\">\n<title>135045913476880&#45;&gt;135045927645200*</title>\n<path fill=\"none\" stroke=\"black\" d=\"M294.52,-69.02C307.83,-80.34 322.23,-92.59 333.95,-102.55\"/>\n<polygon fill=\"black\" stroke=\"black\" points=\"331.7,-105.23 341.59,-109.04 336.23,-99.9 331.7,-105.23\"/>\n</g>\n<!-- 135045913470736 -->\n<g id=\"node58\" class=\"node\">\n<title>135045913470736</title>\n<polygon fill=\"none\" stroke=\"black\" points=\"212.5,-176.5 212.5,-245.5 294.5,-245.5 294.5,-176.5 212.5,-176.5\"/>\n<text text-anchor=\"middle\" x=\"253.5\" y=\"-230.3\" font-family=\"Times,serif\" font-size=\"14.00\"> </text>\n<polyline fill=\"none\" stroke=\"black\" points=\"212.5,-222.5 294.5,-222.5 \"/>\n<text text-anchor=\"middle\" x=\"253.5\" y=\"-207.3\" font-family=\"Times,serif\" font-size=\"14.00\">data 0.5959</text>\n<polyline fill=\"none\" stroke=\"black\" points=\"212.5,-199.5 294.5,-199.5 \"/>\n<text text-anchor=\"middle\" x=\"253.5\" y=\"-184.3\" font-family=\"Times,serif\" font-size=\"14.00\">grad 0.0000</text>\n</g>\n<!-- 135045913470736&#45;&gt;135045927645904+ -->\n<g id=\"edge55\" class=\"edge\">\n<title>135045913470736&#45;&gt;135045927645904+</title>\n<path fill=\"none\" stroke=\"black\" d=\"M294.52,-211C303.41,-211 312.8,-211 321.54,-211\"/>\n<polygon fill=\"black\" stroke=\"black\" points=\"321.82,-214.5 331.82,-211 321.82,-207.5 321.82,-214.5\"/>\n</g>\n<!-- 135045927743248 -->\n<g id=\"node59\" class=\"node\">\n<title>135045927743248</title>\n<polygon fill=\"none\" stroke=\"black\" points=\"1478.5,-528.5 1478.5,-597.5 1560.5,-597.5 1560.5,-528.5 1478.5,-528.5\"/>\n<text text-anchor=\"middle\" x=\"1519.5\" y=\"-582.3\" font-family=\"Times,serif\" font-size=\"14.00\">*</text>\n<polyline fill=\"none\" stroke=\"black\" points=\"1478.5,-574.5 1560.5,-574.5 \"/>\n<text text-anchor=\"middle\" x=\"1519.5\" y=\"-559.3\" font-family=\"Times,serif\" font-size=\"14.00\">data 0.6316</text>\n<polyline fill=\"none\" stroke=\"black\" points=\"1478.5,-551.5 1560.5,-551.5 \"/>\n<text text-anchor=\"middle\" x=\"1519.5\" y=\"-536.3\" font-family=\"Times,serif\" font-size=\"14.00\">grad 0.0000</text>\n</g>\n<!-- 135045927743248&#45;&gt;135045927735440+ -->\n<g id=\"edge56\" class=\"edge\">\n<title>135045927743248&#45;&gt;135045927735440+</title>\n<path fill=\"none\" stroke=\"black\" d=\"M1560.52,-545.99C1571.12,-541.48 1582.42,-536.68 1592.5,-532.39\"/>\n<polygon fill=\"black\" stroke=\"black\" points=\"1593.9,-535.6 1601.73,-528.47 1591.16,-529.16 1593.9,-535.6\"/>\n</g>\n<!-- 135045927743248*&#45;&gt;135045927743248 -->\n<g id=\"edge22\" class=\"edge\">\n<title>135045927743248*&#45;&gt;135045927743248</title>\n<path fill=\"none\" stroke=\"black\" d=\"M1441.12,-563C1449.39,-563 1458.82,-563 1468.19,-563\"/>\n<polygon fill=\"black\" stroke=\"black\" points=\"1468.28,-566.5 1478.28,-563 1468.28,-559.5 1468.28,-566.5\"/>\n</g>\n<!-- 135045913462608 -->\n<g id=\"node61\" class=\"node\">\n<title>135045913462608</title>\n<polygon fill=\"none\" stroke=\"black\" points=\"423.5,-264.5 423.5,-333.5 505.5,-333.5 505.5,-264.5 423.5,-264.5\"/>\n<text text-anchor=\"middle\" x=\"464.5\" y=\"-318.3\" font-family=\"Times,serif\" font-size=\"14.00\"> </text>\n<polyline fill=\"none\" stroke=\"black\" points=\"423.5,-310.5 505.5,-310.5 \"/>\n<text text-anchor=\"middle\" x=\"464.5\" y=\"-295.3\" font-family=\"Times,serif\" font-size=\"14.00\">data 0.2962</text>\n<polyline fill=\"none\" stroke=\"black\" points=\"423.5,-287.5 505.5,-287.5 \"/>\n<text text-anchor=\"middle\" x=\"464.5\" y=\"-272.3\" font-family=\"Times,serif\" font-size=\"14.00\">grad 0.0000</text>\n</g>\n<!-- 135045913462608&#45;&gt;135045927647632* -->\n<g id=\"edge34\" class=\"edge\">\n<title>135045913462608&#45;&gt;135045927647632*</title>\n<path fill=\"none\" stroke=\"black\" d=\"M505.52,-333.02C518.83,-344.34 533.23,-356.59 544.95,-366.55\"/>\n<polygon fill=\"black\" stroke=\"black\" points=\"542.7,-369.23 552.59,-373.04 547.23,-363.9 542.7,-369.23\"/>\n</g>\n<!-- 135045927745360 -->\n<g id=\"node62\" class=\"node\">\n<title>135045927745360</title>\n<polygon fill=\"none\" stroke=\"black\" points=\"634.5,-528.5 634.5,-597.5 716.5,-597.5 716.5,-528.5 634.5,-528.5\"/>\n<text text-anchor=\"middle\" x=\"675.5\" y=\"-582.3\" font-family=\"Times,serif\" font-size=\"14.00\"> </text>\n<polyline fill=\"none\" stroke=\"black\" points=\"634.5,-574.5 716.5,-574.5 \"/>\n<text text-anchor=\"middle\" x=\"675.5\" y=\"-559.3\" font-family=\"Times,serif\" font-size=\"14.00\">data 6.0000</text>\n<polyline fill=\"none\" stroke=\"black\" points=\"634.5,-551.5 716.5,-551.5 \"/>\n<text text-anchor=\"middle\" x=\"675.5\" y=\"-536.3\" font-family=\"Times,serif\" font-size=\"14.00\">grad 0.0000</text>\n</g>\n<!-- 135045927745360&#45;&gt;135045927732560* -->\n<g id=\"edge54\" class=\"edge\">\n<title>135045927745360&#45;&gt;135045927732560*</title>\n<path fill=\"none\" stroke=\"black\" d=\"M716.52,-597.02C729.83,-608.34 744.23,-620.59 755.95,-630.55\"/>\n<polygon fill=\"black\" stroke=\"black\" points=\"753.7,-633.23 763.59,-637.04 758.23,-627.9 753.7,-633.23\"/>\n</g>\n<!-- 135049471082448 -->\n<g id=\"node63\" class=\"node\">\n<title>135049471082448</title>\n<polygon fill=\"none\" stroke=\"black\" points=\"1267.5,-528.5 1267.5,-597.5 1349.5,-597.5 1349.5,-528.5 1267.5,-528.5\"/>\n<text text-anchor=\"middle\" x=\"1308.5\" y=\"-582.3\" font-family=\"Times,serif\" font-size=\"14.00\"> </text>\n<polyline fill=\"none\" stroke=\"black\" points=\"1267.5,-574.5 1349.5,-574.5 \"/>\n<text text-anchor=\"middle\" x=\"1308.5\" y=\"-559.3\" font-family=\"Times,serif\" font-size=\"14.00\">data 0.6330</text>\n<polyline fill=\"none\" stroke=\"black\" points=\"1267.5,-551.5 1349.5,-551.5 \"/>\n<text text-anchor=\"middle\" x=\"1308.5\" y=\"-536.3\" font-family=\"Times,serif\" font-size=\"14.00\">grad 0.0000</text>\n</g>\n<!-- 135049471082448&#45;&gt;135045927743248* -->\n<g id=\"edge36\" class=\"edge\">\n<title>135049471082448&#45;&gt;135045927743248*</title>\n<path fill=\"none\" stroke=\"black\" d=\"M1349.52,-563C1358.41,-563 1367.8,-563 1376.54,-563\"/>\n<polygon fill=\"black\" stroke=\"black\" points=\"1376.82,-566.5 1386.82,-563 1376.82,-559.5 1376.82,-566.5\"/>\n</g>\n</g>\n</svg>\n",
            "text/plain": [
              "<graphviz.graphs.Digraph at 0x7ad2d48d0cd0>"
            ]
          },
          "metadata": {},
          "execution_count": 54
        }
      ]
    },
    {
      "cell_type": "code",
      "source": [
        "n = MLP(3, [4, 4, 1])\n",
        "xs = [\n",
        "  [2.0, 3.0, -1.0],\n",
        "  [3.0, -1.0, 0.5],\n",
        "  [0.5, 1.0, 1.0],\n",
        "  [1.0, 1.0, -1.0],\n",
        "]\n",
        "ys = [1.0, -1.0, -1.0, 1.0] # outputs"
      ],
      "metadata": {
        "id": "fvOADeZ2dVem"
      },
      "execution_count": 75,
      "outputs": []
    },
    {
      "cell_type": "code",
      "source": [
        "ypred = [n(x) for x in xs]\n",
        "\n",
        "loss = sum((ypredi- ysi)**2 for ypredi,ysi in  zip(ypred,ys))\n",
        "\n",
        "loss\n"
      ],
      "metadata": {
        "colab": {
          "base_uri": "https://localhost:8080/"
        },
        "id": "D-a9iXM3kDvC",
        "outputId": "25aae6e9-62ff-4ccb-b1f4-020df9acf0e7"
      },
      "execution_count": 113,
      "outputs": [
        {
          "output_type": "execute_result",
          "data": {
            "text/plain": [
              "Value(number=0.1145203170488247)"
            ]
          },
          "metadata": {},
          "execution_count": 113
        }
      ]
    },
    {
      "cell_type": "code",
      "source": [
        "\n",
        "loss.backward()"
      ],
      "metadata": {
        "id": "Xnw-Z8LUkEBo"
      },
      "execution_count": 111,
      "outputs": []
    },
    {
      "cell_type": "code",
      "source": [
        "n.layers[0].neurons[0].w[0].number\n"
      ],
      "metadata": {
        "colab": {
          "base_uri": "https://localhost:8080/"
        },
        "id": "i1MOJTkJuCeD",
        "outputId": "9d6cebc1-58b4-4f2d-f846-49b2234c17c4"
      },
      "execution_count": 100,
      "outputs": [
        {
          "output_type": "execute_result",
          "data": {
            "text/plain": [
              "-0.9011931860437827"
            ]
          },
          "metadata": {},
          "execution_count": 100
        }
      ]
    },
    {
      "cell_type": "code",
      "source": [
        "for p in n.parametros():\n",
        "  p.number += -0.05 * p.gradient\n",
        ""
      ],
      "metadata": {
        "id": "KjsEDiSauRc6"
      },
      "execution_count": 112,
      "outputs": []
    },
    {
      "cell_type": "code",
      "source": [
        "n.layers[0].neurons[0].w[0].number"
      ],
      "metadata": {
        "colab": {
          "base_uri": "https://localhost:8080/"
        },
        "id": "1FM5mW-ruvpc",
        "outputId": "63c7fb9a-f2bc-4c7a-b123-8201a6322e52"
      },
      "execution_count": 106,
      "outputs": [
        {
          "output_type": "execute_result",
          "data": {
            "text/plain": [
              "-1.2720272500230156"
            ]
          },
          "metadata": {},
          "execution_count": 106
        }
      ]
    },
    {
      "cell_type": "code",
      "source": [
        "ypred"
      ],
      "metadata": {
        "colab": {
          "base_uri": "https://localhost:8080/"
        },
        "id": "-qHYATyBu3Ss",
        "outputId": "32b68a07-26dc-4c9a-cb2f-5826da241151"
      },
      "execution_count": 114,
      "outputs": [
        {
          "output_type": "execute_result",
          "data": {
            "text/plain": [
              "[Value(number=0.7694100518054922),\n",
              " Value(number=-0.9634552657041419),\n",
              " Value(number=-0.9793189869029862),\n",
              " Value(number=0.755898851020719)]"
            ]
          },
          "metadata": {},
          "execution_count": 114
        }
      ]
    },
    {
      "cell_type": "code",
      "source": [
        "\n",
        "for k in range(20):\n",
        "\n",
        "  # forward pass\n",
        "  ypred = [n(x) for x in xs]\n",
        "  loss = sum((yout - ygt)**2 for ygt, yout in zip(ys, ypred))\n",
        "\n",
        "  # backward pass\n",
        "  for p in n.parametros():\n",
        "    p.gradient = 0.0\n",
        "  loss.backward()\n",
        "\n",
        "  # update\n",
        "  for p in n.parametros():\n",
        "    p.number += -0.05 * p.gradient\n",
        "\n",
        "  print(k, loss.number)\n",
        ""
      ],
      "metadata": {
        "colab": {
          "base_uri": "https://localhost:8080/"
        },
        "id": "z6XisT7KvcXy",
        "outputId": "3fc8a424-4fe8-4ba1-ec4f-bef1c014c8f2"
      },
      "execution_count": 118,
      "outputs": [
        {
          "output_type": "stream",
          "name": "stdout",
          "text": [
            "0 0.011750967177038111\n",
            "1 0.01156596660309778\n",
            "2 0.011387951396388471\n",
            "3 0.011216502803082288\n",
            "4 0.011051235302760566\n",
            "5 0.010891793384820861\n",
            "6 0.010737848691511613\n",
            "7 0.0105890974799738\n",
            "8 0.010445258362599998\n",
            "9 0.010306070290837997\n",
            "10 0.010171290752464542\n",
            "11 0.010040694156493193\n",
            "12 0.00991407038338736\n",
            "13 0.009791223481229981\n",
            "14 0.009671970491043583\n",
            "15 0.009556140386624237\n",
            "16 0.009443573116116809\n",
            "17 0.009334118734156707\n",
            "18 0.009227636614782517\n",
            "19 0.009123994736512996\n"
          ]
        }
      ]
    },
    {
      "cell_type": "code",
      "source": [],
      "metadata": {
        "id": "GnhDUprQwhTF"
      },
      "execution_count": null,
      "outputs": []
    }
  ]
}